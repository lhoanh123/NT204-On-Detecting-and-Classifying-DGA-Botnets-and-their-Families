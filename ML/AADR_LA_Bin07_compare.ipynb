{
  "cells": [
    {
      "cell_type": "code",
      "execution_count": null,
      "metadata": {
        "id": "SSV2eTv1AV5w",
        "colab": {
          "base_uri": "https://localhost:8080/"
        },
        "outputId": "eaa3ff33-9027-4ba1-d8f4-904441e42156"
      },
      "outputs": [
        {
          "output_type": "stream",
          "name": "stdout",
          "text": [
            "Mounted at /content/drive\n"
          ]
        }
      ],
      "source": [
        "from google.colab import drive\n",
        "drive.mount('/content/drive')"
      ]
    },
    {
      "cell_type": "code",
      "execution_count": 2,
      "metadata": {
        "colab": {
          "base_uri": "https://localhost:8080/"
        },
        "id": "M46G2TytAYWM",
        "outputId": "e33d8f8f-c577-4c93-fd15-07dad6db84ee"
      },
      "outputs": [
        {
          "metadata": {
            "tags": null
          },
          "name": "stdout",
          "output_type": "stream",
          "text": [
            "Requirement already satisfied: keras-self-attention in /usr/local/lib/python3.10/dist-packages (0.51.0)\n",
            "Requirement already satisfied: numpy in /usr/local/lib/python3.10/dist-packages (from keras-self-attention) (1.25.2)\n"
          ]
        }
      ],
      "source": [
        "!pip install keras-self-attention"
      ]
    },
    {
      "cell_type": "markdown",
      "source": [
        "# Chuẩn bị dữ liệu"
      ],
      "metadata": {
        "id": "JgGnV-htDv-1"
      }
    },
    {
      "cell_type": "code",
      "execution_count": 74,
      "metadata": {
        "id": "Smq_kZN3BYXK"
      },
      "outputs": [],
      "source": [
        "import pandas as pd\n",
        "import numpy as np\n",
        "from sklearn.model_selection import train_test_split\n",
        "from sklearn.preprocessing import LabelEncoder\n",
        "from sklearn.metrics import accuracy_score, precision_score, recall_score, f1_score\n",
        "from keras.preprocessing.text import Tokenizer\n",
        "from keras.preprocessing.sequence import pad_sequences\n",
        "from keras.models import Sequential\n",
        "from keras.layers import Embedding, Bidirectional, LSTM, Dense, Dropout\n",
        "from keras.optimizers import Adam\n",
        "from keras_self_attention import SeqSelfAttention, SeqWeightedAttention\n",
        "from keras.initializers import GlorotNormal\n",
        "import tensorflow as tf\n",
        "from keras.regularizers import l2"
      ]
    },
    {
      "cell_type": "code",
      "execution_count": 70,
      "metadata": {
        "colab": {
          "base_uri": "https://localhost:8080/",
          "height": 423
        },
        "id": "SSXcqamdBZMn",
        "outputId": "bc8fac5a-82f0-4027-c0d1-8f27d0881c3b"
      },
      "outputs": [
        {
          "output_type": "execute_result",
          "data": {
            "text/plain": [
              "         Unnamed: 0                domain  class\n",
              "0                 0            google.com  legit\n",
              "1                 1          facebook.com  legit\n",
              "2                 2           youtube.com  legit\n",
              "3                 3             baidu.com  legit\n",
              "4                 4             yahoo.com  legit\n",
              "...             ...                   ...    ...\n",
              "1799995     1799995  yacoouemkmmeaqiu.org  ramdo\n",
              "1799996     1799996  yaucyikacowiogem.org  ramdo\n",
              "1799997     1799997  iumgkaoasgoyiccy.org  ramdo\n",
              "1799998     1799998  aemosuaokkwmqqmq.org  ramdo\n",
              "1799999     1799999  eimgukowkqeckykg.org  ramdo\n",
              "\n",
              "[1800000 rows x 3 columns]"
            ],
            "text/html": [
              "\n",
              "  <div id=\"df-8978ed34-5f7e-42fa-8bfb-e7f5c2dc761b\" class=\"colab-df-container\">\n",
              "    <div>\n",
              "<style scoped>\n",
              "    .dataframe tbody tr th:only-of-type {\n",
              "        vertical-align: middle;\n",
              "    }\n",
              "\n",
              "    .dataframe tbody tr th {\n",
              "        vertical-align: top;\n",
              "    }\n",
              "\n",
              "    .dataframe thead th {\n",
              "        text-align: right;\n",
              "    }\n",
              "</style>\n",
              "<table border=\"1\" class=\"dataframe\">\n",
              "  <thead>\n",
              "    <tr style=\"text-align: right;\">\n",
              "      <th></th>\n",
              "      <th>Unnamed: 0</th>\n",
              "      <th>domain</th>\n",
              "      <th>class</th>\n",
              "    </tr>\n",
              "  </thead>\n",
              "  <tbody>\n",
              "    <tr>\n",
              "      <th>0</th>\n",
              "      <td>0</td>\n",
              "      <td>google.com</td>\n",
              "      <td>legit</td>\n",
              "    </tr>\n",
              "    <tr>\n",
              "      <th>1</th>\n",
              "      <td>1</td>\n",
              "      <td>facebook.com</td>\n",
              "      <td>legit</td>\n",
              "    </tr>\n",
              "    <tr>\n",
              "      <th>2</th>\n",
              "      <td>2</td>\n",
              "      <td>youtube.com</td>\n",
              "      <td>legit</td>\n",
              "    </tr>\n",
              "    <tr>\n",
              "      <th>3</th>\n",
              "      <td>3</td>\n",
              "      <td>baidu.com</td>\n",
              "      <td>legit</td>\n",
              "    </tr>\n",
              "    <tr>\n",
              "      <th>4</th>\n",
              "      <td>4</td>\n",
              "      <td>yahoo.com</td>\n",
              "      <td>legit</td>\n",
              "    </tr>\n",
              "    <tr>\n",
              "      <th>...</th>\n",
              "      <td>...</td>\n",
              "      <td>...</td>\n",
              "      <td>...</td>\n",
              "    </tr>\n",
              "    <tr>\n",
              "      <th>1799995</th>\n",
              "      <td>1799995</td>\n",
              "      <td>yacoouemkmmeaqiu.org</td>\n",
              "      <td>ramdo</td>\n",
              "    </tr>\n",
              "    <tr>\n",
              "      <th>1799996</th>\n",
              "      <td>1799996</td>\n",
              "      <td>yaucyikacowiogem.org</td>\n",
              "      <td>ramdo</td>\n",
              "    </tr>\n",
              "    <tr>\n",
              "      <th>1799997</th>\n",
              "      <td>1799997</td>\n",
              "      <td>iumgkaoasgoyiccy.org</td>\n",
              "      <td>ramdo</td>\n",
              "    </tr>\n",
              "    <tr>\n",
              "      <th>1799998</th>\n",
              "      <td>1799998</td>\n",
              "      <td>aemosuaokkwmqqmq.org</td>\n",
              "      <td>ramdo</td>\n",
              "    </tr>\n",
              "    <tr>\n",
              "      <th>1799999</th>\n",
              "      <td>1799999</td>\n",
              "      <td>eimgukowkqeckykg.org</td>\n",
              "      <td>ramdo</td>\n",
              "    </tr>\n",
              "  </tbody>\n",
              "</table>\n",
              "<p>1800000 rows × 3 columns</p>\n",
              "</div>\n",
              "    <div class=\"colab-df-buttons\">\n",
              "\n",
              "  <div class=\"colab-df-container\">\n",
              "    <button class=\"colab-df-convert\" onclick=\"convertToInteractive('df-8978ed34-5f7e-42fa-8bfb-e7f5c2dc761b')\"\n",
              "            title=\"Convert this dataframe to an interactive table.\"\n",
              "            style=\"display:none;\">\n",
              "\n",
              "  <svg xmlns=\"http://www.w3.org/2000/svg\" height=\"24px\" viewBox=\"0 -960 960 960\">\n",
              "    <path d=\"M120-120v-720h720v720H120Zm60-500h600v-160H180v160Zm220 220h160v-160H400v160Zm0 220h160v-160H400v160ZM180-400h160v-160H180v160Zm440 0h160v-160H620v160ZM180-180h160v-160H180v160Zm440 0h160v-160H620v160Z\"/>\n",
              "  </svg>\n",
              "    </button>\n",
              "\n",
              "  <style>\n",
              "    .colab-df-container {\n",
              "      display:flex;\n",
              "      gap: 12px;\n",
              "    }\n",
              "\n",
              "    .colab-df-convert {\n",
              "      background-color: #E8F0FE;\n",
              "      border: none;\n",
              "      border-radius: 50%;\n",
              "      cursor: pointer;\n",
              "      display: none;\n",
              "      fill: #1967D2;\n",
              "      height: 32px;\n",
              "      padding: 0 0 0 0;\n",
              "      width: 32px;\n",
              "    }\n",
              "\n",
              "    .colab-df-convert:hover {\n",
              "      background-color: #E2EBFA;\n",
              "      box-shadow: 0px 1px 2px rgba(60, 64, 67, 0.3), 0px 1px 3px 1px rgba(60, 64, 67, 0.15);\n",
              "      fill: #174EA6;\n",
              "    }\n",
              "\n",
              "    .colab-df-buttons div {\n",
              "      margin-bottom: 4px;\n",
              "    }\n",
              "\n",
              "    [theme=dark] .colab-df-convert {\n",
              "      background-color: #3B4455;\n",
              "      fill: #D2E3FC;\n",
              "    }\n",
              "\n",
              "    [theme=dark] .colab-df-convert:hover {\n",
              "      background-color: #434B5C;\n",
              "      box-shadow: 0px 1px 3px 1px rgba(0, 0, 0, 0.15);\n",
              "      filter: drop-shadow(0px 1px 2px rgba(0, 0, 0, 0.3));\n",
              "      fill: #FFFFFF;\n",
              "    }\n",
              "  </style>\n",
              "\n",
              "    <script>\n",
              "      const buttonEl =\n",
              "        document.querySelector('#df-8978ed34-5f7e-42fa-8bfb-e7f5c2dc761b button.colab-df-convert');\n",
              "      buttonEl.style.display =\n",
              "        google.colab.kernel.accessAllowed ? 'block' : 'none';\n",
              "\n",
              "      async function convertToInteractive(key) {\n",
              "        const element = document.querySelector('#df-8978ed34-5f7e-42fa-8bfb-e7f5c2dc761b');\n",
              "        const dataTable =\n",
              "          await google.colab.kernel.invokeFunction('convertToInteractive',\n",
              "                                                    [key], {});\n",
              "        if (!dataTable) return;\n",
              "\n",
              "        const docLinkHtml = 'Like what you see? Visit the ' +\n",
              "          '<a target=\"_blank\" href=https://colab.research.google.com/notebooks/data_table.ipynb>data table notebook</a>'\n",
              "          + ' to learn more about interactive tables.';\n",
              "        element.innerHTML = '';\n",
              "        dataTable['output_type'] = 'display_data';\n",
              "        await google.colab.output.renderOutput(dataTable, element);\n",
              "        const docLink = document.createElement('div');\n",
              "        docLink.innerHTML = docLinkHtml;\n",
              "        element.appendChild(docLink);\n",
              "      }\n",
              "    </script>\n",
              "  </div>\n",
              "\n",
              "\n",
              "<div id=\"df-edf11f46-9f36-416e-850d-b0a1337f2a58\">\n",
              "  <button class=\"colab-df-quickchart\" onclick=\"quickchart('df-edf11f46-9f36-416e-850d-b0a1337f2a58')\"\n",
              "            title=\"Suggest charts\"\n",
              "            style=\"display:none;\">\n",
              "\n",
              "<svg xmlns=\"http://www.w3.org/2000/svg\" height=\"24px\"viewBox=\"0 0 24 24\"\n",
              "     width=\"24px\">\n",
              "    <g>\n",
              "        <path d=\"M19 3H5c-1.1 0-2 .9-2 2v14c0 1.1.9 2 2 2h14c1.1 0 2-.9 2-2V5c0-1.1-.9-2-2-2zM9 17H7v-7h2v7zm4 0h-2V7h2v10zm4 0h-2v-4h2v4z\"/>\n",
              "    </g>\n",
              "</svg>\n",
              "  </button>\n",
              "\n",
              "<style>\n",
              "  .colab-df-quickchart {\n",
              "      --bg-color: #E8F0FE;\n",
              "      --fill-color: #1967D2;\n",
              "      --hover-bg-color: #E2EBFA;\n",
              "      --hover-fill-color: #174EA6;\n",
              "      --disabled-fill-color: #AAA;\n",
              "      --disabled-bg-color: #DDD;\n",
              "  }\n",
              "\n",
              "  [theme=dark] .colab-df-quickchart {\n",
              "      --bg-color: #3B4455;\n",
              "      --fill-color: #D2E3FC;\n",
              "      --hover-bg-color: #434B5C;\n",
              "      --hover-fill-color: #FFFFFF;\n",
              "      --disabled-bg-color: #3B4455;\n",
              "      --disabled-fill-color: #666;\n",
              "  }\n",
              "\n",
              "  .colab-df-quickchart {\n",
              "    background-color: var(--bg-color);\n",
              "    border: none;\n",
              "    border-radius: 50%;\n",
              "    cursor: pointer;\n",
              "    display: none;\n",
              "    fill: var(--fill-color);\n",
              "    height: 32px;\n",
              "    padding: 0;\n",
              "    width: 32px;\n",
              "  }\n",
              "\n",
              "  .colab-df-quickchart:hover {\n",
              "    background-color: var(--hover-bg-color);\n",
              "    box-shadow: 0 1px 2px rgba(60, 64, 67, 0.3), 0 1px 3px 1px rgba(60, 64, 67, 0.15);\n",
              "    fill: var(--button-hover-fill-color);\n",
              "  }\n",
              "\n",
              "  .colab-df-quickchart-complete:disabled,\n",
              "  .colab-df-quickchart-complete:disabled:hover {\n",
              "    background-color: var(--disabled-bg-color);\n",
              "    fill: var(--disabled-fill-color);\n",
              "    box-shadow: none;\n",
              "  }\n",
              "\n",
              "  .colab-df-spinner {\n",
              "    border: 2px solid var(--fill-color);\n",
              "    border-color: transparent;\n",
              "    border-bottom-color: var(--fill-color);\n",
              "    animation:\n",
              "      spin 1s steps(1) infinite;\n",
              "  }\n",
              "\n",
              "  @keyframes spin {\n",
              "    0% {\n",
              "      border-color: transparent;\n",
              "      border-bottom-color: var(--fill-color);\n",
              "      border-left-color: var(--fill-color);\n",
              "    }\n",
              "    20% {\n",
              "      border-color: transparent;\n",
              "      border-left-color: var(--fill-color);\n",
              "      border-top-color: var(--fill-color);\n",
              "    }\n",
              "    30% {\n",
              "      border-color: transparent;\n",
              "      border-left-color: var(--fill-color);\n",
              "      border-top-color: var(--fill-color);\n",
              "      border-right-color: var(--fill-color);\n",
              "    }\n",
              "    40% {\n",
              "      border-color: transparent;\n",
              "      border-right-color: var(--fill-color);\n",
              "      border-top-color: var(--fill-color);\n",
              "    }\n",
              "    60% {\n",
              "      border-color: transparent;\n",
              "      border-right-color: var(--fill-color);\n",
              "    }\n",
              "    80% {\n",
              "      border-color: transparent;\n",
              "      border-right-color: var(--fill-color);\n",
              "      border-bottom-color: var(--fill-color);\n",
              "    }\n",
              "    90% {\n",
              "      border-color: transparent;\n",
              "      border-bottom-color: var(--fill-color);\n",
              "    }\n",
              "  }\n",
              "</style>\n",
              "\n",
              "  <script>\n",
              "    async function quickchart(key) {\n",
              "      const quickchartButtonEl =\n",
              "        document.querySelector('#' + key + ' button');\n",
              "      quickchartButtonEl.disabled = true;  // To prevent multiple clicks.\n",
              "      quickchartButtonEl.classList.add('colab-df-spinner');\n",
              "      try {\n",
              "        const charts = await google.colab.kernel.invokeFunction(\n",
              "            'suggestCharts', [key], {});\n",
              "      } catch (error) {\n",
              "        console.error('Error during call to suggestCharts:', error);\n",
              "      }\n",
              "      quickchartButtonEl.classList.remove('colab-df-spinner');\n",
              "      quickchartButtonEl.classList.add('colab-df-quickchart-complete');\n",
              "    }\n",
              "    (() => {\n",
              "      let quickchartButtonEl =\n",
              "        document.querySelector('#df-edf11f46-9f36-416e-850d-b0a1337f2a58 button');\n",
              "      quickchartButtonEl.style.display =\n",
              "        google.colab.kernel.accessAllowed ? 'block' : 'none';\n",
              "    })();\n",
              "  </script>\n",
              "</div>\n",
              "    </div>\n",
              "  </div>\n"
            ],
            "application/vnd.google.colaboratory.intrinsic+json": {
              "type": "dataframe",
              "variable_name": "df"
            }
          },
          "metadata": {},
          "execution_count": 70
        }
      ],
      "source": [
        "# Load the dataset\n",
        "df = pd.read_csv('/content/drive/MyDrive/ML-dataset/DGA/RNN/dataset_all.csv')\n",
        "df"
      ]
    },
    {
      "cell_type": "code",
      "execution_count": 72,
      "metadata": {
        "id": "ZvsIODrQLTNE"
      },
      "outputs": [],
      "source": [
        "# Trộn dữ liệu\n",
        "shuffled_data = df.sample(frac=1, random_state=42).reset_index(drop=True)\n",
        "\n",
        "# Mã hóa nhãn lớp\n",
        "label_encoder = LabelEncoder()\n",
        "# Gán 0 cho nhãn 'legit' và 1 cho các lớp DGA khác\n",
        "shuffled_data['class'] = shuffled_data['class'].apply(lambda x: 0 if x == 'legit' else 1)\n",
        "encoded_class = shuffled_data['class'].values\n",
        "\n",
        "# Mã hóa tên miền\n",
        "tokenizer = Tokenizer(char_level=True)\n",
        "tokenizer.fit_on_texts(shuffled_data['domain'])\n",
        "encoded_domain = tokenizer.texts_to_sequences(shuffled_data['domain'])\n",
        "\n",
        "# Lấp đầy các chuỗi để đảm bảo độ dài đồng nhất\n",
        "max_sequence_length = max([len(seq) for seq in encoded_domain])\n",
        "padded_domain = pad_sequences(encoded_domain, maxlen=max_sequence_length)\n",
        "\n",
        "# Chia dữ liệu thành tập huấn luyện và tập kiểm tra\n",
        "X_train, X_test, y_train, y_test = train_test_split(padded_domain, encoded_class, test_size=0.2, random_state=42)\n",
        "\n",
        "# Xác định kích thước từ vựng\n",
        "vocab_size = len(tokenizer.word_index) + 1  # Thêm 1 vì chỉ số 0 được dành riêng"
      ]
    },
    {
      "cell_type": "code",
      "source": [
        "# Creating model results\n",
        "ML_Model = []\n",
        "acc = []\n",
        "prec = []\n",
        "rec = []\n",
        "f1_scores = []\n",
        "\n",
        "#storing the results\n",
        "def storeResults(model, a,b,c,d):\n",
        "  ML_Model.append(model)\n",
        "  acc.append(round(a, 3))\n",
        "  prec.append(round(b, 3))\n",
        "  rec.append(round(c, 3))\n",
        "  f1_scores.append(round(d, 3))"
      ],
      "metadata": {
        "id": "5DNoduKydsOV"
      },
      "execution_count": 73,
      "outputs": []
    },
    {
      "cell_type": "markdown",
      "source": [
        "# So sánh với các phương pháp khác để phân loại nhị phân"
      ],
      "metadata": {
        "id": "dbAbHq8IEc5J"
      }
    },
    {
      "cell_type": "markdown",
      "source": [
        "# AB"
      ],
      "metadata": {
        "id": "nnMGEDpgxXTN"
      }
    },
    {
      "cell_type": "code",
      "source": [
        "import numpy as np\n",
        "from sklearn.datasets import load_iris\n",
        "from sklearn.model_selection import train_test_split\n",
        "from sklearn.ensemble import AdaBoostClassifier\n",
        "from sklearn.tree import DecisionTreeClassifier\n",
        "from sklearn.metrics import accuracy_score\n",
        "\n",
        "\n",
        "# Khởi tạo mô hình cây quyết định yếu (weak learner)\n",
        "weak_learner = DecisionTreeClassifier(max_depth=1)\n",
        "\n",
        "# Khởi tạo mô hình AdaBoost với 50 cây quyết định và thuật toán SAMME.R\n",
        "model = AdaBoostClassifier(\n",
        "    base_estimator=weak_learner,\n",
        "    n_estimators=50,\n",
        "    algorithm='SAMME.R',\n",
        "    random_state=42\n",
        ")\n",
        "\n",
        "# Huấn luyện mô hình\n",
        "model.fit(X_train, y_train)\n",
        "\n",
        "# Dự đoán trên tập kiểm tra\n",
        "y_pred = model.predict(X_test)\n",
        "\n",
        "# Đánh giá mô hình\n",
        "accuracy = accuracy_score(y_test, y_pred)\n",
        "precision = precision_score(y_test, y_pred, average='weighted')\n",
        "recall = recall_score(y_test, y_pred, average='weighted')\n",
        "f1_ab = f1_score(y_test, y_pred, average='weighted')"
      ],
      "metadata": {
        "id": "q5obo57Wu71X",
        "colab": {
          "base_uri": "https://localhost:8080/"
        },
        "outputId": "08f8dbaa-2103-4f20-e935-dfd4bd6df60c"
      },
      "execution_count": 75,
      "outputs": [
        {
          "output_type": "stream",
          "name": "stderr",
          "text": [
            "/usr/local/lib/python3.10/dist-packages/sklearn/ensemble/_base.py:166: FutureWarning: `base_estimator` was renamed to `estimator` in version 1.2 and will be removed in 1.4.\n",
            "  warnings.warn(\n"
          ]
        }
      ]
    },
    {
      "cell_type": "code",
      "source": [
        "storeResults('AB', accuracy, precision, recall, f1_ab)"
      ],
      "metadata": {
        "id": "cXvsgWEzdx7H"
      },
      "execution_count": 76,
      "outputs": []
    },
    {
      "cell_type": "markdown",
      "source": [
        "# NN"
      ],
      "metadata": {
        "id": "WSA0wUofxYjl"
      }
    },
    {
      "cell_type": "code",
      "source": [
        "# Khởi tạo mô hình Sequential\n",
        "model = Sequential()\n",
        "\n",
        "# Thêm lớp ẩn với 100 nút và hàm kích hoạt ReLU\n",
        "model.add(Dense(100, activation='relu', input_shape=(X_train.shape[1],)))\n",
        "\n",
        "# Thêm lớp đầu ra với số nút bằng số lớp (giả sử đây là bài toán phân loại nhiều lớp)\n",
        "# Ở đây sử dụng hàm softmax cho phân loại nhiều lớp\n",
        "model.add(Dense(len(np.unique(y_train)), activation='softmax'))\n",
        "\n",
        "# Biên dịch mô hình với bộ tối ưu hóa Adam, learning rate 0.001 và hàm mất mát categorical crossentropy\n",
        "model.compile(optimizer=tf.keras.optimizers.Adam(learning_rate=0.001),\n",
        "              loss='sparse_categorical_crossentropy',\n",
        "              metrics=['accuracy'])\n",
        "\n",
        "# Huấn luyện mô hình\n",
        "history = model.fit(X_train, y_train, epochs=10, batch_size=32, validation_data=(X_test, y_test), verbose=1)\n",
        "\n",
        "# Dự đoán trên tập kiểm tra\n",
        "y_pred = model.predict(X_test)\n",
        "y_pred_classes = np.argmax(y_pred, axis=1)\n",
        "\n",
        "# Tính các chỉ số đo lường hiệu suất\n",
        "accuracy_nn = accuracy_score(y_test, y_pred_classes)\n",
        "precision_nn = precision_score(y_test, y_pred_classes, average='weighted')\n",
        "recall_nn = recall_score(y_test, y_pred_classes, average='weighted')\n",
        "f1_nn = f1_score(y_test, y_pred_classes, average='weighted')"
      ],
      "metadata": {
        "id": "UI7pIG7ZxV9y"
      },
      "execution_count": null,
      "outputs": []
    },
    {
      "cell_type": "code",
      "source": [
        "storeResults('NN', accuracy_nn, precision_nn, recall_nn, f1_nn)"
      ],
      "metadata": {
        "id": "EC6I_nf0d35T"
      },
      "execution_count": 77,
      "outputs": []
    },
    {
      "cell_type": "markdown",
      "source": [
        "# RF"
      ],
      "metadata": {
        "id": "LR-4_J_0Eih9"
      }
    },
    {
      "cell_type": "code",
      "source": [
        "from sklearn.ensemble import RandomForestClassifier\n",
        "\n",
        "# Khởi tạo mô hình RandomForest với các tham số cụ thể\n",
        "rf_model = RandomForestClassifier(\n",
        "    n_estimators=10,             # Số lượng cây\n",
        "    max_features=5,              # Số lượng thuộc tính tối đa tại mỗi lần phân tách\n",
        "    min_samples_split=5,         # Không phân tách các tập con nhỏ hơn 5\n",
        "    random_state=42\n",
        ")\n",
        "\n",
        "# Huấn luyện mô hình\n",
        "rf_model.fit(X_train, y_train)\n",
        "\n",
        "# Dự đoán trên tập kiểm tra\n",
        "y_pred = rf_model.predict(X_test)\n",
        "\n",
        "# Tính các chỉ số đo lường hiệu suất\n",
        "accuracy_rf = accuracy_score(y_test, y_pred)\n",
        "precision_rf = precision_score(y_test, y_pred, average='weighted')\n",
        "recall_rf = recall_score(y_test, y_pred, average='weighted')\n",
        "f1_rf = f1_score(y_test, y_pred, average='weighted')"
      ],
      "metadata": {
        "id": "12god2oLBCtu"
      },
      "execution_count": 46,
      "outputs": []
    },
    {
      "cell_type": "code",
      "source": [
        "storeResults('RF', accuracy_rf, precision_rf, recall_rf, f1_rf)"
      ],
      "metadata": {
        "id": "J3SHj6E-d8P6"
      },
      "execution_count": 78,
      "outputs": []
    },
    {
      "cell_type": "markdown",
      "source": [
        "# SVM"
      ],
      "metadata": {
        "id": "bLcrZdbtEkeT"
      }
    },
    {
      "cell_type": "code",
      "source": [
        "from sklearn.svm import SVC\n",
        "svm_model = SVC(\n",
        "    C=1.0,               # Tham số C\n",
        "    kernel='rbf',        # Sử dụng RBF kernel\n",
        "    gamma='scale',       # Sử dụng gamma='scale' theo mặc định của scikit-learn\n",
        "    tol=0.10,            # Epsilon (E) = 0.10\n",
        "    random_state=42\n",
        ")\n",
        "\n",
        "# Huấn luyện mô hình\n",
        "svm_model.fit(X_train, y_train)\n",
        "\n",
        "# Dự đoán trên tập kiểm tra\n",
        "y_pred = svm_model.predict(X_test)\n",
        "\n",
        "# Tính các chỉ số đo lường hiệu suất\n",
        "accuracy_svm = accuracy_score(y_test, y_pred)\n",
        "precision_svm = precision_score(y_test, y_pred, average='weighted')\n",
        "recall_svm = recall_score(y_test, y_pred, average='weighted')\n",
        "f1_svm = f1_score(y_test, y_pred, average='weighted')"
      ],
      "metadata": {
        "id": "2CbZeeeRC8db"
      },
      "execution_count": 8,
      "outputs": []
    },
    {
      "cell_type": "code",
      "source": [
        "storeResults('SVM', accuracy_svm, precision_svm, recall_svm, f1_svm)"
      ],
      "metadata": {
        "id": "b1tP-EbRd-Yu"
      },
      "execution_count": 79,
      "outputs": []
    },
    {
      "cell_type": "markdown",
      "source": [
        "# DT"
      ],
      "metadata": {
        "id": "aGDJqqckEnLe"
      }
    },
    {
      "cell_type": "code",
      "source": [
        "from sklearn.tree import DecisionTreeClassifier\n",
        "# Khởi tạo mô hình Decision Tree với các tham số cụ thể\n",
        "dt_model = DecisionTreeClassifier(\n",
        "    min_samples_leaf=2,      # Ít nhất hai mẫu trong các lá\n",
        "    min_samples_split=5,     # Không chia nhỏ các cây nhỏ hơn năm\n",
        "    max_depth=100,           # Độ sâu tối đa là 100\n",
        "    max_leaf_nodes=None,     # Không giới hạn số lượng lá\n",
        "    criterion='gini',        # Sử dụng tiêu chí Gini (có thể thay bằng 'entropy' nếu muốn)\n",
        "    random_state=42\n",
        ")\n",
        "\n",
        "# Huấn luyện mô hình\n",
        "dt_model.fit(X_train, y_train)\n",
        "\n",
        "# Dự đoán trên tập kiểm tra\n",
        "y_pred = dt_model.predict(X_test)\n",
        "\n",
        "# Tính các chỉ số đo lường hiệu suất\n",
        "accuracy_dt = accuracy_score(y_test, y_pred)\n",
        "precision_dt = precision_score(y_test, y_pred, average='weighted')\n",
        "recall_dt = recall_score(y_test, y_pred, average='weighted')\n",
        "f1_dt = f1_score(y_test, y_pred, average='weighted')"
      ],
      "metadata": {
        "id": "-RimNKUMDJYr"
      },
      "execution_count": 48,
      "outputs": []
    },
    {
      "cell_type": "code",
      "source": [
        "storeResults('DT', accuracy_dt, precision_dt, recall_dt, f1_dt)"
      ],
      "metadata": {
        "id": "gYQw3-C7eHex"
      },
      "execution_count": 80,
      "outputs": []
    },
    {
      "cell_type": "markdown",
      "source": [
        "# KNN"
      ],
      "metadata": {
        "id": "9ayd7XkzEriV"
      }
    },
    {
      "cell_type": "code",
      "source": [
        "from sklearn.neighbors import KNeighborsClassifier\n",
        "# Khởi tạo mô hình k-Nearest Neighbours với các tham số cụ thể\n",
        "knn_model = KNeighborsClassifier(\n",
        "    n_neighbors=5,            # Sử dụng 5 hàng xóm\n",
        "    metric='euclidean',       # Sử dụng khoảng cách Euclidean\n",
        "    weights='uniform'         # Sử dụng trọng số đồng nhất\n",
        ")\n",
        "\n",
        "# Huấn luyện mô hình\n",
        "knn_model.fit(X_train, y_train)\n",
        "\n",
        "# Dự đoán trên tập kiểm tra\n",
        "y_pred = knn_model.predict(X_test)\n",
        "\n",
        "# Tính các chỉ số đo lường hiệu suất\n",
        "accuracy_knn = accuracy_score(y_test, y_pred)\n",
        "precision_knn = precision_score(y_test, y_pred, average='weighted')\n",
        "recall_knn = recall_score(y_test, y_pred, average='weighted')\n",
        "f1_knn = f1_score(y_test, y_pred, average='weighted')"
      ],
      "metadata": {
        "id": "VorGSiAIDTw6"
      },
      "execution_count": 50,
      "outputs": []
    },
    {
      "cell_type": "code",
      "source": [
        "storeResults('KNN', accuracy_knn, precision_knn, recall_knn, f1_knn)"
      ],
      "metadata": {
        "id": "41Uo5MKH4vqT"
      },
      "execution_count": 81,
      "outputs": []
    },
    {
      "cell_type": "markdown",
      "source": [
        "# LA_Bin07"
      ],
      "metadata": {
        "id": "WjWezq1mE_Ga"
      }
    },
    {
      "cell_type": "code",
      "source": [
        "from keras.models import load_model\n",
        "from keras_self_attention import SeqSelfAttention, SeqWeightedAttention\n",
        "import numpy as np\n",
        "from sklearn.metrics import accuracy_score, precision_score, recall_score, f1_score\n",
        "\n",
        "# Load the model with custom objects\n",
        "custom_objects = {'SeqSelfAttention': SeqSelfAttention, 'SeqWeightedAttention': SeqWeightedAttention}\n",
        "la_bin07 = load_model('/content/drive/MyDrive/ML/AADR_LA_Bin07.h5', custom_objects=custom_objects)\n",
        "\n",
        "# Predict on the test set\n",
        "y_pred = (la_bin07.predict(X_test) > 0.5).astype(\"int32\")\n",
        "\n",
        "# Calculate performance metrics\n",
        "accuracy_la = accuracy_score(y_test, y_pred)\n",
        "precision_la = precision_score(y_test, y_pred, average='weighted')\n",
        "recall_la = recall_score(y_test, y_pred, average='weighted')\n",
        "f1_la = f1_score(y_test, y_pred, average='weighted')\n",
        "\n",
        "# Print the metrics\n",
        "print(f'Accuracy: {accuracy_la}')\n",
        "print(f'Precision: {precision_la}')\n",
        "print(f'Recall: {recall_la}')\n",
        "print(f'F1 Score: {f1_la}')\n"
      ],
      "metadata": {
        "id": "xsKp0u41ePHz",
        "colab": {
          "base_uri": "https://localhost:8080/"
        },
        "outputId": "19f839ef-0d78-4086-c005-ed4ff62fbea2"
      },
      "execution_count": 25,
      "outputs": [
        {
          "output_type": "stream",
          "name": "stdout",
          "text": [
            "11250/11250 [==============================] - 890s 79ms/step\n",
            "Accuracy: 0.9904\n",
            "Precision: 0.9904009711880205\n",
            "Recall: 0.9904\n",
            "F1 Score: 0.9903984243734394\n"
          ]
        }
      ]
    },
    {
      "cell_type": "code",
      "source": [
        "storeResults('LA_Bin07', accuracy_la, precision_la, recall_la, f1_la)"
      ],
      "metadata": {
        "id": "5Vhf1yW8cI_s"
      },
      "execution_count": 82,
      "outputs": []
    },
    {
      "cell_type": "markdown",
      "source": [
        "# So sánh"
      ],
      "metadata": {
        "id": "tAMzZnKoFDTP"
      }
    },
    {
      "cell_type": "code",
      "source": [
        "import matplotlib.pyplot as plt\n",
        "import numpy as np\n",
        "\n",
        "# Định nghĩa tên các mô hình và các chỉ số của chúng\n",
        "labels = ['AB', 'NN', 'RF', 'SVM', 'DT', 'KNN', 'LA_Bin07']\n",
        "accuracy = acc\n",
        "precision = prec\n",
        "recall = rec\n",
        "f1_score_1 = f1_scores\n",
        "\n",
        "# Định nghĩa chiều rộng và khoảng cách giữa các thanh\n",
        "width = 0.2\n",
        "space = 0.1\n",
        "\n",
        "# Định nghĩa vị trí của các thanh\n",
        "x = np.arange(len(labels))\n",
        "\n",
        "# Tạo biểu đồ\n",
        "fig, ax = plt.subplots(figsize=(12, 8))\n",
        "\n",
        "rects1 = ax.bar(x - 1.5*(width + space/4), accuracy, width, label='Accuracy', color='#4F86F7')\n",
        "rects2 = ax.bar(x - 0.5*(width + space/4), precision, width, label='Precision', color='orange')\n",
        "rects3 = ax.bar(x + 0.5*(width + space/4), recall, width, label='Recall', color='#D3D3D3')\n",
        "rects4 = ax.bar(x + 1.5*(width + space/4), f1_score_1, width, label='F1 Score', color='#FFC0CB')\n",
        "\n",
        "# Thêm các nhãn cho trục, tiêu đề và các nhãn cho trục x\n",
        "ax.set_xlabel('Models')\n",
        "ax.set_ylabel('Scores')\n",
        "ax.set_title('Comparison of Model Performance')\n",
        "ax.set_xticks(x)\n",
        "ax.set_xticklabels(labels)\n",
        "ax.legend()\n",
        "\n",
        "# Hàm để thêm nhãn giá trị trên các thanh\n",
        "def autolabel(rects):\n",
        "    for rect in rects:\n",
        "        height = rect.get_height()\n",
        "        ax.annotate(f'{height:.2f}',  # Hiển thị giá trị với 2 chữ số thập phân\n",
        "                    xy=(rect.get_x() + rect.get_width() / 2, height),\n",
        "                    xytext=(0, 3),  # Dịch chuyển thẳng đứng 3 điểm\n",
        "                    textcoords=\"offset points\",\n",
        "                    ha='center', va='bottom')\n",
        "\n",
        "# Áp dụng hàm autolabel cho tất cả các thanh\n",
        "autolabel(rects1)\n",
        "autolabel(rects2)\n",
        "autolabel(rects3)\n",
        "autolabel(rects4)\n",
        "\n",
        "fig.tight_layout()\n",
        "plt.show()\n"
      ],
      "metadata": {
        "id": "mTpwAxUKgOvF",
        "colab": {
          "base_uri": "https://localhost:8080/",
          "height": 754
        },
        "outputId": "8b0c6e55-103b-4ed3-f98b-0c508deb25cc"
      },
      "execution_count": 84,
      "outputs": [
        {
          "output_type": "display_data",
          "data": {
            "text/plain": [
              "<Figure size 1200x800 with 1 Axes>"
            ],
            "image/png": "[encoded data removed]"
          },
          "metadata": {}
        }
      ]
    }
  ],
  "metadata": {
    "colab": {
      "provenance": []
    },
    "kernelspec": {
      "display_name": "Python 3",
      "name": "python3"
    },
    "language_info": {
      "name": "python"
    }
  },
  "nbformat": 4,
  "nbformat_minor": 0
}