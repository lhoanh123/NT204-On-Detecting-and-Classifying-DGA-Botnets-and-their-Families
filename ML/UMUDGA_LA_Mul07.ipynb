{
  "cells": [
    {
      "cell_type": "code",
      "execution_count": 1,
      "metadata": {
        "colab": {
          "base_uri": "https://localhost:8080/"
        },
        "id": "SSV2eTv1AV5w",
        "outputId": "51df8fb6-c30f-4b66-860b-b4c608d01824"
      },
      "outputs": [
        {
          "output_type": "stream",
          "name": "stdout",
          "text": [
            "Drive already mounted at /content/drive; to attempt to forcibly remount, call drive.mount(\"/content/drive\", force_remount=True).\n"
          ]
        }
      ],
      "source": [
        "from google.colab import drive\n",
        "drive.mount('/content/drive')"
      ]
    },
    {
      "cell_type": "code",
      "execution_count": 2,
      "metadata": {
        "colab": {
          "base_uri": "https://localhost:8080/"
        },
        "id": "M46G2TytAYWM",
        "outputId": "132dbba0-4a53-4b82-81b5-6a8b0e596392"
      },
      "outputs": [
        {
          "output_type": "stream",
          "name": "stdout",
          "text": [
            "Requirement already satisfied: keras-self-attention in /usr/local/lib/python3.10/dist-packages (0.51.0)\n",
            "Requirement already satisfied: numpy in /usr/local/lib/python3.10/dist-packages (from keras-self-attention) (1.26.4)\n"
          ]
        }
      ],
      "source": [
        "!pip install keras-self-attention"
      ]
    },
    {
      "cell_type": "code",
      "execution_count": 3,
      "metadata": {
        "id": "Smq_kZN3BYXK"
      },
      "outputs": [],
      "source": [
        "import pandas as pd\n",
        "import numpy as np\n",
        "from sklearn.model_selection import train_test_split\n",
        "from sklearn.preprocessing import LabelEncoder\n",
        "from sklearn.metrics import accuracy_score, precision_score, recall_score, f1_score\n",
        "from keras.preprocessing.text import Tokenizer\n",
        "from keras.preprocessing.sequence import pad_sequences\n",
        "from keras.models import Sequential\n",
        "from keras.layers import Embedding, Bidirectional, LSTM, Dense, Dropout\n",
        "from keras.optimizers import Adam\n",
        "from keras_self_attention import SeqSelfAttention, SeqWeightedAttention\n",
        "from keras.initializers import GlorotNormal\n",
        "import tensorflow as tf\n",
        "from keras.regularizers import l2"
      ]
    },
    {
      "cell_type": "code",
      "execution_count": 4,
      "metadata": {
        "colab": {
          "base_uri": "https://localhost:8080/"
        },
        "id": "SSXcqamdBZMn",
        "outputId": "3ce89294-7a3b-40d6-d4fe-dbfe12b2e01d"
      },
      "outputs": [
        {
          "output_type": "stream",
          "name": "stdout",
          "text": [
            "(49898, 134)\n"
          ]
        }
      ],
      "source": [
        "\n",
        "# Load the dataset from the new directory path\n",
        "alureon = pd.read_csv('/content/drive/MyDrive/ML/UMUDGA/alureon.csv')\n",
        "banjori = pd.read_csv('/content/drive/MyDrive/ML/UMUDGA/banjori.csv')\n",
        "bedep = pd.read_csv('/content/drive/MyDrive/ML/UMUDGA/bedep.csv')\n",
        "ccleaner = pd.read_csv('/content/drive/MyDrive/ML/UMUDGA/ccleaner.csv')\n",
        "chinad = pd.read_csv('/content/drive/MyDrive/ML/UMUDGA/chinad.csv')\n",
        "corebot = pd.read_csv('/content/drive/MyDrive/ML/UMUDGA/corebot.csv')\n",
        "cryptolocker = pd.read_csv('/content/drive/MyDrive/ML/UMUDGA/cryptolocker.csv')\n",
        "dircrypt = pd.read_csv('/content/drive/MyDrive/ML/UMUDGA/dircrypt.csv')\n",
        "dyre = pd.read_csv('/content/drive/MyDrive/ML/UMUDGA/dyre.csv')\n",
        "fobber_v1 = pd.read_csv('/content/drive/MyDrive/ML/UMUDGA/fobber_v1.csv')\n",
        "fobber_v2 = pd.read_csv('/content/drive/MyDrive/ML/UMUDGA/fobber_v2.csv')\n",
        "gozi_gpl = pd.read_csv('/content/drive/MyDrive/ML/UMUDGA/gozi_gpl.csv')\n",
        "gozi_luther = pd.read_csv('/content/drive/MyDrive/ML/UMUDGA/gozi_luther.csv')\n",
        "gozi_nasa = pd.read_csv('/content/drive/MyDrive/ML/UMUDGA/gozi_nasa.csv')\n",
        "gozi_rfc4343 = pd.read_csv('/content/drive/MyDrive/ML/UMUDGA/gozi_rfc4343.csv')\n",
        "kraken_v1 = pd.read_csv('/content/drive/MyDrive/ML/UMUDGA/kraken_v1.csv')\n",
        "kraken_v2 = pd.read_csv('/content/drive/MyDrive/ML/UMUDGA/kraken_v2.csv')\n",
        "locky = pd.read_csv('/content/drive/MyDrive/ML/UMUDGA/locky.csv')\n",
        "matsnu = pd.read_csv('/content/drive/MyDrive/ML/UMUDGA/matsnu.csv')\n",
        "murofet_v1 = pd.read_csv('/content/drive/MyDrive/ML/UMUDGA/murofet_v1.csv')\n",
        "murofet_v2 = pd.read_csv('/content/drive/MyDrive/ML/UMUDGA/murofet_v2.csv')\n",
        "murofet_v3 = pd.read_csv('/content/drive/MyDrive/ML/UMUDGA/murofet_v3.csv')\n",
        "necurs = pd.read_csv('/content/drive/MyDrive/ML/UMUDGA/necurs.csv')\n",
        "nymaim = pd.read_csv('/content/drive/MyDrive/ML/UMUDGA/nymaim.csv')\n",
        "padcrypt = pd.read_csv('/content/drive/MyDrive/ML/UMUDGA/padcrypt.csv')\n",
        "pizd = pd.read_csv('/content/drive/MyDrive/ML/UMUDGA/pizd.csv')\n",
        "proslikefan = pd.read_csv('/content/drive/MyDrive/ML/UMUDGA/proslikefan.csv')\n",
        "pushdo = pd.read_csv('/content/drive/MyDrive/ML/UMUDGA/pushdo.csv')\n",
        "pykspa = pd.read_csv('/content/drive/MyDrive/ML/UMUDGA/pykspa.csv')\n",
        "pykspa_noise = pd.read_csv('/content/drive/MyDrive/ML/UMUDGA/pykspa_noise.csv')\n",
        "qadars = pd.read_csv('/content/drive/MyDrive/ML/UMUDGA/qadars.csv')\n",
        "qakbot = pd.read_csv('/content/drive/MyDrive/ML/UMUDGA/qakbot.csv')\n",
        "ramdo = pd.read_csv('/content/drive/MyDrive/ML/UMUDGA/ramdo.csv')\n",
        "ramnit = pd.read_csv('/content/drive/MyDrive/ML/UMUDGA/ramnit.csv')\n",
        "ranbyus_v1 = pd.read_csv('/content/drive/MyDrive/ML/UMUDGA/ranbyus_v1.csv')\n",
        "ranbyus_v2 = pd.read_csv('/content/drive/MyDrive/ML/UMUDGA/ranbyus_v2.csv')\n",
        "rovnix = pd.read_csv('/content/drive/MyDrive/ML/UMUDGA/rovnix.csv')\n",
        "shiotob = pd.read_csv('/content/drive/MyDrive/ML/UMUDGA/shiotob.csv')\n",
        "simda = pd.read_csv('/content/drive/MyDrive/ML/UMUDGA/simda.csv')\n",
        "sisron = pd.read_csv('/content/drive/MyDrive/ML/UMUDGA/sisron.csv')\n",
        "suppobox_1 = pd.read_csv('/content/drive/MyDrive/ML/UMUDGA/suppobox_1.csv')\n",
        "suppobox_2 = pd.read_csv('/content/drive/MyDrive/ML/UMUDGA/suppobox_2.csv')\n",
        "suppobox_3 = pd.read_csv('/content/drive/MyDrive/ML/UMUDGA/suppobox_3.csv')\n",
        "symmi = pd.read_csv('/content/drive/MyDrive/ML/UMUDGA/symmi.csv')\n",
        "tempedreve = pd.read_csv('/content/drive/MyDrive/ML/UMUDGA/tempedreve.csv')\n",
        "tinba = pd.read_csv('/content/drive/MyDrive/ML/UMUDGA/tinba.csv')\n",
        "vawtrak_v1 = pd.read_csv('/content/drive/MyDrive/ML/UMUDGA/vawtrak_v1.csv')\n",
        "vawtrak_v2 = pd.read_csv('/content/drive/MyDrive/ML/UMUDGA/vawtrak_v2.csv')\n",
        "vawtrak_v3 = pd.read_csv('/content/drive/MyDrive/ML/UMUDGA/vawtrak_v3.csv')\n",
        "zeus_newgoz = pd.read_csv('/content/drive/MyDrive/ML/UMUDGA/zeus-newgoz.csv')\n",
        "\n",
        "# Concatenate all datasets into a single DataFrame\n",
        "dataset = pd.concat([alureon, banjori, bedep, ccleaner, chinad, corebot, cryptolocker, dircrypt, dyre, fobber_v1,\n",
        "                     fobber_v2, gozi_gpl, gozi_luther, gozi_nasa, gozi_rfc4343, kraken_v1, kraken_v2, locky, matsnu,\n",
        "                     murofet_v1, murofet_v2, murofet_v3, necurs, nymaim, padcrypt, pizd, proslikefan, pushdo, pykspa,\n",
        "                     pykspa_noise, qadars, qakbot, ramdo, ramnit, ranbyus_v1, ranbyus_v2, rovnix, shiotob, simda, sisron,\n",
        "                     suppobox_1, suppobox_2, suppobox_3, symmi, tempedreve, tinba, vawtrak_v1, vawtrak_v2, vawtrak_v3,\n",
        "                     zeus_newgoz], ignore_index=True)\n",
        "\n",
        "# Print the shape of the dataset to verify\n",
        "print(dataset.shape)\n"
      ]
    },
    {
      "cell_type": "code",
      "execution_count": 5,
      "metadata": {
        "colab": {
          "base_uri": "https://localhost:8080/"
        },
        "id": "QI5S6UhNnf6H",
        "outputId": "d7cdf172-887b-4087-ea05-8e2753295a95"
      },
      "outputs": [
        {
          "output_type": "stream",
          "name": "stdout",
          "text": [
            "Unique classes before label encoding: ['pizd' 'pushdo' 'ccleaner' 'qakbot' 'tinba' 'fobber_v1' 'tempedreve'\n",
            " 'alureon' 'necurs' 'padcrypt' 'dircrypt' 'qadars' 'nymaim' 'kraken_v2'\n",
            " 'bedep' 'fobber_v2' 'pykspa' 'murofet_v3' 'proslikefan' 'suppobox_2'\n",
            " 'chinad' 'vawtrak_v2' 'ranbyus_v1' 'pykspa_noise' 'ramdo' 'sisron'\n",
            " 'vawtrak_v1' 'ranbyus_v2' 'vawtrak_v3' 'kraken_v1' 'murofet_v2' 'matsnu'\n",
            " 'locky' 'gozi_gpl' 'banjori' 'murofet_v1' 'corebot' 'gozi_luther'\n",
            " 'cryptolocker' 'symmi' 'simda' 'dyre' 'gozi_nasa' 'ramnit' 'gozi_rfc4343'\n",
            " 'zeus-newgoz' 'rovnix' 'suppobox_3' 'shiotob' 'suppobox_1']\n",
            "Unique classes after label encoding: [ 0  1  2  3  4  5  6  7  8  9 10 11 12 13 14 15 16 17 18 19 20 21 22 23\n",
            " 24 25 26 27 28 29 30 31 32 33 34 35 36 37 38 39 40 41 42 43 44 45 46 47\n",
            " 48 49]\n",
            "Class: alureon, Encoded number: 0\n",
            "Class: padcrypt, Encoded number: 1\n",
            "Class: proslikefan, Encoded number: 2\n",
            "Class: pushdo, Encoded number: 3\n",
            "Class: pykspa, Encoded number: 4\n",
            "Class: pykspa_noise, Encoded number: 5\n",
            "Class: qadars, Encoded number: 6\n",
            "Class: qakbot, Encoded number: 7\n",
            "Class: ramdo, Encoded number: 8\n",
            "Class: ramnit, Encoded number: 9\n",
            "Class: ranbyus_v1, Encoded number: 10\n",
            "Class: ranbyus_v2, Encoded number: 11\n",
            "Class: rovnix, Encoded number: 12\n",
            "Class: shiotob, Encoded number: 13\n",
            "Class: simda, Encoded number: 14\n",
            "Class: sisron, Encoded number: 15\n",
            "Class: suppobox_3, Encoded number: 16\n",
            "Class: symmi, Encoded number: 17\n",
            "Class: tempedreve, Encoded number: 18\n",
            "Class: tinba, Encoded number: 19\n",
            "Class: vawtrak_v1, Encoded number: 20\n",
            "Class: vawtrak_v2, Encoded number: 21\n",
            "Class: vawtrak_v3, Encoded number: 22\n",
            "Class: banjori, Encoded number: 23\n",
            "Class: zeus-newgoz, Encoded number: 24\n",
            "Class: nymaim, Encoded number: 25\n",
            "Class: necurs, Encoded number: 26\n",
            "Class: bedep, Encoded number: 27\n",
            "Class: ccleaner, Encoded number: 28\n",
            "Class: chinad, Encoded number: 29\n",
            "Class: corebot, Encoded number: 30\n",
            "Class: cryptolocker, Encoded number: 31\n",
            "Class: dircrypt, Encoded number: 32\n",
            "Class: dyre, Encoded number: 33\n",
            "Class: fobber_v1, Encoded number: 34\n",
            "Class: fobber_v2, Encoded number: 35\n",
            "Class: gozi_gpl, Encoded number: 36\n",
            "Class: gozi_luther, Encoded number: 37\n",
            "Class: kraken_v1, Encoded number: 38\n",
            "Class: kraken_v2, Encoded number: 39\n",
            "Class: locky, Encoded number: 40\n",
            "Class: murofet_v1, Encoded number: 41\n",
            "Class: murofet_v2, Encoded number: 42\n",
            "Class: murofet_v3, Encoded number: 43\n",
            "Class: suppobox_2, Encoded number: 44\n",
            "Class: matsnu, Encoded number: 45\n",
            "Class: gozi_rfc4343, Encoded number: 46\n",
            "Class: gozi_nasa, Encoded number: 47\n",
            "Class: suppobox_1, Encoded number: 48\n",
            "Class: pizd, Encoded number: 49\n"
          ]
        }
      ],
      "source": [
        "# Trộn dữ liệu trước khi mã hóa nhãn\n",
        "shuffled_data = dataset.sample(frac=1, random_state=42).reset_index(drop=True)\n",
        "\n",
        "# Định nghĩa một từ điển ánh xạ tùy chỉnh để đảm bảo thứ tự mong muốn mà không có lớp 'legit'\n",
        "custom_mapping = {\n",
        "    'alureon': 0,\n",
        "    'padcrypt': 1,\n",
        "    'proslikefan': 2,\n",
        "    'pushdo': 3,\n",
        "    'pykspa': 4,\n",
        "    'pykspa_noise': 5,\n",
        "    'qadars': 6,\n",
        "    'qakbot': 7,\n",
        "    'ramdo': 8,\n",
        "    'ramnit': 9,\n",
        "    'ranbyus_v1': 10,\n",
        "    'ranbyus_v2': 11,\n",
        "    'rovnix': 12,\n",
        "    'shiotob': 13,\n",
        "    'simda': 14,\n",
        "    'sisron': 15,\n",
        "    'suppobox_3': 16,\n",
        "    'symmi': 17,\n",
        "    'tempedreve': 18,\n",
        "    'tinba': 19,\n",
        "    'vawtrak_v1': 20,\n",
        "    'vawtrak_v2': 21,\n",
        "    'vawtrak_v3': 22,\n",
        "    'banjori': 23,\n",
        "    'zeus-newgoz': 24,\n",
        "    'nymaim': 25,\n",
        "    'necurs': 26,\n",
        "    'bedep': 27,\n",
        "    'ccleaner': 28,\n",
        "    'chinad': 29,\n",
        "    'corebot': 30,\n",
        "    'cryptolocker': 31,\n",
        "    'dircrypt': 32,\n",
        "    'dyre': 33,\n",
        "    'fobber_v1': 34,\n",
        "    'fobber_v2': 35,\n",
        "    'gozi_gpl': 36,\n",
        "    'gozi_luther': 37,\n",
        "    'kraken_v1': 38,\n",
        "    'kraken_v2': 39,\n",
        "    'locky': 40,\n",
        "    'murofet_v1': 41,\n",
        "    'murofet_v2': 42,\n",
        "    'murofet_v3': 43,\n",
        "    'suppobox_2': 44,\n",
        "    'matsnu': 45,\n",
        "    'gozi_rfc4343': 46,\n",
        "    'gozi_nasa': 47,\n",
        "    'suppobox_1': 48,\n",
        "    'pizd': 49\n",
        "}\n",
        "\n",
        "# Các lớp duy nhất trước khi mã hóa nhãn\n",
        "unique_classes_before_encoding = shuffled_data['class'].unique()\n",
        "print(\"Unique classes before label encoding:\", unique_classes_before_encoding)\n",
        "\n",
        "# Áp dụng mã hóa nhãn bằng cách sử dụng ánh xạ tùy chỉnh\n",
        "shuffled_data['class'] = shuffled_data['class'].map(custom_mapping)\n",
        "\n",
        "# Mã hóa nhãn lớp\n",
        "label_encoder = LabelEncoder()\n",
        "shuffled_data['class'] = label_encoder.fit_transform(shuffled_data['class'])\n",
        "\n",
        "# Các lớp duy nhất sau khi mã hóa nhãn\n",
        "unique_classes_after_encoding = label_encoder.classes_\n",
        "print(\"Unique classes after label encoding:\", unique_classes_after_encoding)\n",
        "\n",
        "# Định nghĩa một từ điển ánh xạ đảo ngược\n",
        "reverse_mapping = {v: k for k, v in custom_mapping.items()}\n",
        "\n",
        "# In ra số được gán cho mỗi lớp sau khi mã hóa nhãn\n",
        "for class_number in unique_classes_after_encoding:\n",
        "    class_name = reverse_mapping[class_number]\n",
        "    print(f\"Class: {class_name}, Encoded number: {class_number}\")"
      ]
    },
    {
      "cell_type": "code",
      "execution_count": 6,
      "metadata": {
        "colab": {
          "base_uri": "https://localhost:8080/",
          "height": 273
        },
        "id": "ZvsIODrQLTNE",
        "outputId": "25a66c5e-607f-4502-b7a8-f33b29c8f781"
      },
      "outputs": [
        {
          "output_type": "execute_result",
          "data": {
            "text/plain": [
              "                 domain  nlp_1g_25p  nlp_1g_50p  nlp_1g_75p  nlp_1g_cov  \\\n",
              "0  conditionpartial.net         0.0         0.0    0.052632    0.001484   \n",
              "1       dekumaftefoz.kz         0.0         0.0    0.071429    0.001467   \n",
              "2     ab1d673001015.com         0.0         0.0    0.062500    0.001406   \n",
              "3     fnerbrdylnggf.net         0.0         0.0    0.062500    0.001539   \n",
              "4      foeudgdenscn.com         0.0         0.0    0.066667    0.001458   \n",
              "\n",
              "   nlp_1g_dist  nlp_1g_dst_ca  nlp_1g_dst_ch  nlp_1g_dst_em  nlp_1g_dst_eu  \\\n",
              "0         11.0      32.731322       0.156771       8.844818       0.333663   \n",
              "1         10.0      32.757755       0.141997       8.357229       0.344433   \n",
              "2         12.0      30.650933       0.166028       5.996134       0.318175   \n",
              "3         10.0      33.749704       0.150316       9.275264       0.390471   \n",
              "4         10.0      33.253521       0.132473      10.856174       0.351970   \n",
              "\n",
              "   ...  nlp_r_num_odn  nlp_r_sym_2dn  nlp_r_sym_fqdn  nlp_r_sym_odn  \\\n",
              "0  ...            0.0            0.0        0.050000            0.0   \n",
              "1  ...            0.0            0.0        0.066667            0.0   \n",
              "2  ...            0.0            0.0        0.058824            0.0   \n",
              "3  ...            0.0            0.0        0.058824            0.0   \n",
              "4  ...            0.0            0.0        0.062500            0.0   \n",
              "\n",
              "   nlp_r_vow_2dn  nlp_r_vow_fqdn  nlp_r_vow_odn  class  Unnamed: 132  nlp_lc_d  \n",
              "0       0.437500        0.400000            0.0     49           NaN       NaN  \n",
              "1       0.416667        0.333333            0.0      3           NaN       NaN  \n",
              "2       0.076923        0.117647            0.0     28           NaN       9.0  \n",
              "3       0.076923        0.117647            0.0      7           NaN       NaN  \n",
              "4       0.333333        0.312500            0.0     19           NaN       NaN  \n",
              "\n",
              "[5 rows x 134 columns]"
            ],
            "text/html": [
              "\n",
              "  <div id=\"df-a42a58ef-c791-4d4b-8cc3-d9a8d855f090\" class=\"colab-df-container\">\n",
              "    <div>\n",
              "<style scoped>\n",
              "    .dataframe tbody tr th:only-of-type {\n",
              "        vertical-align: middle;\n",
              "    }\n",
              "\n",
              "    .dataframe tbody tr th {\n",
              "        vertical-align: top;\n",
              "    }\n",
              "\n",
              "    .dataframe thead th {\n",
              "        text-align: right;\n",
              "    }\n",
              "</style>\n",
              "<table border=\"1\" class=\"dataframe\">\n",
              "  <thead>\n",
              "    <tr style=\"text-align: right;\">\n",
              "      <th></th>\n",
              "      <th>domain</th>\n",
              "      <th>nlp_1g_25p</th>\n",
              "      <th>nlp_1g_50p</th>\n",
              "      <th>nlp_1g_75p</th>\n",
              "      <th>nlp_1g_cov</th>\n",
              "      <th>nlp_1g_dist</th>\n",
              "      <th>nlp_1g_dst_ca</th>\n",
              "      <th>nlp_1g_dst_ch</th>\n",
              "      <th>nlp_1g_dst_em</th>\n",
              "      <th>nlp_1g_dst_eu</th>\n",
              "      <th>...</th>\n",
              "      <th>nlp_r_num_odn</th>\n",
              "      <th>nlp_r_sym_2dn</th>\n",
              "      <th>nlp_r_sym_fqdn</th>\n",
              "      <th>nlp_r_sym_odn</th>\n",
              "      <th>nlp_r_vow_2dn</th>\n",
              "      <th>nlp_r_vow_fqdn</th>\n",
              "      <th>nlp_r_vow_odn</th>\n",
              "      <th>class</th>\n",
              "      <th>Unnamed: 132</th>\n",
              "      <th>nlp_lc_d</th>\n",
              "    </tr>\n",
              "  </thead>\n",
              "  <tbody>\n",
              "    <tr>\n",
              "      <th>0</th>\n",
              "      <td>conditionpartial.net</td>\n",
              "      <td>0.0</td>\n",
              "      <td>0.0</td>\n",
              "      <td>0.052632</td>\n",
              "      <td>0.001484</td>\n",
              "      <td>11.0</td>\n",
              "      <td>32.731322</td>\n",
              "      <td>0.156771</td>\n",
              "      <td>8.844818</td>\n",
              "      <td>0.333663</td>\n",
              "      <td>...</td>\n",
              "      <td>0.0</td>\n",
              "      <td>0.0</td>\n",
              "      <td>0.050000</td>\n",
              "      <td>0.0</td>\n",
              "      <td>0.437500</td>\n",
              "      <td>0.400000</td>\n",
              "      <td>0.0</td>\n",
              "      <td>49</td>\n",
              "      <td>NaN</td>\n",
              "      <td>NaN</td>\n",
              "    </tr>\n",
              "    <tr>\n",
              "      <th>1</th>\n",
              "      <td>dekumaftefoz.kz</td>\n",
              "      <td>0.0</td>\n",
              "      <td>0.0</td>\n",
              "      <td>0.071429</td>\n",
              "      <td>0.001467</td>\n",
              "      <td>10.0</td>\n",
              "      <td>32.757755</td>\n",
              "      <td>0.141997</td>\n",
              "      <td>8.357229</td>\n",
              "      <td>0.344433</td>\n",
              "      <td>...</td>\n",
              "      <td>0.0</td>\n",
              "      <td>0.0</td>\n",
              "      <td>0.066667</td>\n",
              "      <td>0.0</td>\n",
              "      <td>0.416667</td>\n",
              "      <td>0.333333</td>\n",
              "      <td>0.0</td>\n",
              "      <td>3</td>\n",
              "      <td>NaN</td>\n",
              "      <td>NaN</td>\n",
              "    </tr>\n",
              "    <tr>\n",
              "      <th>2</th>\n",
              "      <td>ab1d673001015.com</td>\n",
              "      <td>0.0</td>\n",
              "      <td>0.0</td>\n",
              "      <td>0.062500</td>\n",
              "      <td>0.001406</td>\n",
              "      <td>12.0</td>\n",
              "      <td>30.650933</td>\n",
              "      <td>0.166028</td>\n",
              "      <td>5.996134</td>\n",
              "      <td>0.318175</td>\n",
              "      <td>...</td>\n",
              "      <td>0.0</td>\n",
              "      <td>0.0</td>\n",
              "      <td>0.058824</td>\n",
              "      <td>0.0</td>\n",
              "      <td>0.076923</td>\n",
              "      <td>0.117647</td>\n",
              "      <td>0.0</td>\n",
              "      <td>28</td>\n",
              "      <td>NaN</td>\n",
              "      <td>9.0</td>\n",
              "    </tr>\n",
              "    <tr>\n",
              "      <th>3</th>\n",
              "      <td>fnerbrdylnggf.net</td>\n",
              "      <td>0.0</td>\n",
              "      <td>0.0</td>\n",
              "      <td>0.062500</td>\n",
              "      <td>0.001539</td>\n",
              "      <td>10.0</td>\n",
              "      <td>33.749704</td>\n",
              "      <td>0.150316</td>\n",
              "      <td>9.275264</td>\n",
              "      <td>0.390471</td>\n",
              "      <td>...</td>\n",
              "      <td>0.0</td>\n",
              "      <td>0.0</td>\n",
              "      <td>0.058824</td>\n",
              "      <td>0.0</td>\n",
              "      <td>0.076923</td>\n",
              "      <td>0.117647</td>\n",
              "      <td>0.0</td>\n",
              "      <td>7</td>\n",
              "      <td>NaN</td>\n",
              "      <td>NaN</td>\n",
              "    </tr>\n",
              "    <tr>\n",
              "      <th>4</th>\n",
              "      <td>foeudgdenscn.com</td>\n",
              "      <td>0.0</td>\n",
              "      <td>0.0</td>\n",
              "      <td>0.066667</td>\n",
              "      <td>0.001458</td>\n",
              "      <td>10.0</td>\n",
              "      <td>33.253521</td>\n",
              "      <td>0.132473</td>\n",
              "      <td>10.856174</td>\n",
              "      <td>0.351970</td>\n",
              "      <td>...</td>\n",
              "      <td>0.0</td>\n",
              "      <td>0.0</td>\n",
              "      <td>0.062500</td>\n",
              "      <td>0.0</td>\n",
              "      <td>0.333333</td>\n",
              "      <td>0.312500</td>\n",
              "      <td>0.0</td>\n",
              "      <td>19</td>\n",
              "      <td>NaN</td>\n",
              "      <td>NaN</td>\n",
              "    </tr>\n",
              "  </tbody>\n",
              "</table>\n",
              "<p>5 rows × 134 columns</p>\n",
              "</div>\n",
              "    <div class=\"colab-df-buttons\">\n",
              "      \n",
              "  <div class=\"colab-df-container\">\n",
              "    <button class=\"colab-df-convert\" onclick=\"convertToInteractive('df-a42a58ef-c791-4d4b-8cc3-d9a8d855f090')\"\n",
              "            title=\"Convert this dataframe to an interactive table.\"\n",
              "            style=\"display:none;\">\n",
              "      \n",
              "  <svg xmlns=\"http://www.w3.org/2000/svg\" height=\"24px\" viewBox=\"0 -960 960 960\">\n",
              "    <path d=\"M120-120v-720h720v720H120Zm60-500h600v-160H180v160Zm220 220h160v-160H400v160Zm0 220h160v-160H400v160ZM180-400h160v-160H180v160Zm440 0h160v-160H620v160ZM180-180h160v-160H180v160Zm440 0h160v-160H620v160Z\"/>\n",
              "  </svg>\n",
              "    </button>\n",
              "    \n",
              "  <style>\n",
              "    .colab-df-container {\n",
              "      display:flex;\n",
              "      gap: 12px;\n",
              "    }\n",
              "\n",
              "    .colab-df-convert {\n",
              "      background-color: #E8F0FE;\n",
              "      border: none;\n",
              "      border-radius: 50%;\n",
              "      cursor: pointer;\n",
              "      display: none;\n",
              "      fill: #1967D2;\n",
              "      height: 32px;\n",
              "      padding: 0 0 0 0;\n",
              "      width: 32px;\n",
              "    }\n",
              "\n",
              "    .colab-df-convert:hover {\n",
              "      background-color: #E2EBFA;\n",
              "      box-shadow: 0px 1px 2px rgba(60, 64, 67, 0.3), 0px 1px 3px 1px rgba(60, 64, 67, 0.15);\n",
              "      fill: #174EA6;\n",
              "    }\n",
              "\n",
              "    .colab-df-buttons div {\n",
              "      margin-bottom: 4px;\n",
              "    }\n",
              "\n",
              "    [theme=dark] .colab-df-convert {\n",
              "      background-color: #3B4455;\n",
              "      fill: #D2E3FC;\n",
              "    }\n",
              "\n",
              "    [theme=dark] .colab-df-convert:hover {\n",
              "      background-color: #434B5C;\n",
              "      box-shadow: 0px 1px 3px 1px rgba(0, 0, 0, 0.15);\n",
              "      filter: drop-shadow(0px 1px 2px rgba(0, 0, 0, 0.3));\n",
              "      fill: #FFFFFF;\n",
              "    }\n",
              "  </style>\n",
              "\n",
              "    <script>\n",
              "      const buttonEl =\n",
              "        document.querySelector('#df-a42a58ef-c791-4d4b-8cc3-d9a8d855f090 button.colab-df-convert');\n",
              "      buttonEl.style.display =\n",
              "        google.colab.kernel.accessAllowed ? 'block' : 'none';\n",
              "\n",
              "      async function convertToInteractive(key) {\n",
              "        const element = document.querySelector('#df-a42a58ef-c791-4d4b-8cc3-d9a8d855f090');\n",
              "        const dataTable =\n",
              "          await google.colab.kernel.invokeFunction('convertToInteractive',\n",
              "                                                    [key], {});\n",
              "        if (!dataTable) return;\n",
              "\n",
              "        const docLinkHtml = 'Like what you see? Visit the ' +\n",
              "          '<a target=\"_blank\" href=https://colab.research.google.com/notebooks/data_table.ipynb>data table notebook</a>'\n",
              "          + ' to learn more about interactive tables.';\n",
              "        element.innerHTML = '';\n",
              "        dataTable['output_type'] = 'display_data';\n",
              "        await google.colab.output.renderOutput(dataTable, element);\n",
              "        const docLink = document.createElement('div');\n",
              "        docLink.innerHTML = docLinkHtml;\n",
              "        element.appendChild(docLink);\n",
              "      }\n",
              "    </script>\n",
              "  </div>\n",
              "  \n",
              "    </div>\n",
              "  </div>\n",
              "  "
            ]
          },
          "metadata": {},
          "execution_count": 6
        }
      ],
      "source": [
        "shuffled_data.head()"
      ]
    },
    {
      "cell_type": "code",
      "execution_count": 7,
      "metadata": {
        "id": "Qj5P2IdabUL9"
      },
      "outputs": [],
      "source": [
        "shuffled_data = shuffled_data.dropna(axis=1)"
      ]
    },
    {
      "cell_type": "code",
      "execution_count": 8,
      "metadata": {
        "colab": {
          "base_uri": "https://localhost:8080/"
        },
        "id": "xw28XHSYbXI-",
        "outputId": "9074564e-b1fb-4874-fb08-a844a08958be"
      },
      "outputs": [
        {
          "output_type": "stream",
          "name": "stdout",
          "text": [
            "                                          Encoded Domain  Encoded Class\n",
            "0      [4, 1, 5, 12, 8, 6, 8, 1, 5, 19, 9, 10, 6, 8, ...             49\n",
            "1      [12, 2, 18, 13, 7, 9, 16, 6, 2, 16, 1, 27, 3, ...              3\n",
            "2      [9, 17, 28, 12, 33, 34, 31, 35, 35, 28, 35, 28...             28\n",
            "3      [16, 5, 2, 10, 17, 10, 12, 22, 14, 5, 15, 15, ...              7\n",
            "4      [16, 1, 2, 13, 12, 15, 12, 2, 5, 11, 4, 5, 3, ...             19\n",
            "...                                                  ...            ...\n",
            "49893  [9, 4, 23, 13, 8, 5, 6, 2, 6, 20, 2, 14, 9, 6,...             36\n",
            "49894  [7, 18, 20, 22, 20, 8, 7, 2, 17, 8, 3, 8, 5, 1...             18\n",
            "49895  [25, 13, 15, 13, 25, 13, 26, 22, 6, 2, 26, 3, ...             14\n",
            "49896  [27, 13, 24, 22, 23, 19, 24, 2, 27, 5, 3, 4, 1...              0\n",
            "49897  [16, 23, 26, 20, 11, 24, 11, 2, 24, 12, 22, 3,...             38\n",
            "\n",
            "[49898 rows x 2 columns]\n",
            "Shape of X_train: (39918, 47)\n",
            "Shape of X_test: (9980, 47)\n",
            "Shape of y_train: (39918,)\n",
            "Shape of y_test: (9980,)\n",
            "Vocab size: 39\n"
          ]
        }
      ],
      "source": [
        "# Mã hóa tên miền\n",
        "tokenizer = Tokenizer(char_level=True)\n",
        "tokenizer.fit_on_texts(shuffled_data['domain'])\n",
        "encoded_domain = tokenizer.texts_to_sequences(shuffled_data['domain'])\n",
        "\n",
        "# In dữ liệu đã mã hóa và nhãn lớp\n",
        "encoded_data_with_labels = pd.DataFrame({'Encoded Domain': encoded_domain, 'Encoded Class': shuffled_data['class']})\n",
        "print(encoded_data_with_labels)\n",
        "\n",
        "# Lấp đầy các chuỗi để đảm bảo độ dài đồng nhất\n",
        "max_sequence_length = max([len(seq) for seq in encoded_domain])\n",
        "padded_domain = pad_sequences(encoded_domain, maxlen=max_sequence_length)\n",
        "\n",
        "# Chia dữ liệu thành tập huấn luyện và kiểm tra\n",
        "X_train, X_test, y_train, y_test = train_test_split(padded_domain, shuffled_data['class'], test_size=0.2, random_state=42)\n",
        "\n",
        "print(\"Shape of X_train:\", X_train.shape)\n",
        "print(\"Shape of X_test:\", X_test.shape)\n",
        "print(\"Shape of y_train:\", y_train.shape)\n",
        "print(\"Shape of y_test:\", y_test.shape)\n",
        "\n",
        "# Xác định kích thước từ vựng\n",
        "vocab_size = len(tokenizer.word_index) + 1  # Adding 1 because index 0 is reserved\n",
        "print(f\"Vocab size: {vocab_size}\")"
      ]
    },
    {
      "cell_type": "markdown",
      "source": [
        "AB"
      ],
      "metadata": {
        "id": "nnMGEDpgxXTN"
      }
    },
    {
      "cell_type": "code",
      "source": [
        "!pip install scikeras"
      ],
      "metadata": {
        "colab": {
          "base_uri": "https://localhost:8080/",
          "height": 755
        },
        "id": "IwIRWUEZVHac",
        "outputId": "bdb56d5d-1fe1-45db-f0b1-fefd062faf61"
      },
      "execution_count": 10,
      "outputs": [
        {
          "output_type": "stream",
          "name": "stdout",
          "text": [
            "Collecting scikeras\n",
            "  Downloading scikeras-0.13.0-py3-none-any.whl (26 kB)\n",
            "Collecting keras>=3.2.0 (from scikeras)\n",
            "  Downloading keras-3.3.3-py3-none-any.whl (1.1 MB)\n",
            "\u001b[2K     \u001b[90m━━━━━━━━━━━━━━━━━━━━━━━━━━━━━━━━━━━━━━━━\u001b[0m \u001b[32m1.1/1.1 MB\u001b[0m \u001b[31m10.1 MB/s\u001b[0m eta \u001b[36m0:00:00\u001b[0m\n",
            "\u001b[?25hCollecting scikit-learn>=1.4.2 (from scikeras)\n",
            "  Downloading scikit_learn-1.5.0-cp310-cp310-manylinux_2_17_x86_64.manylinux2014_x86_64.whl (13.3 MB)\n",
            "\u001b[2K     \u001b[90m━━━━━━━━━━━━━━━━━━━━━━━━━━━━━━━━━━━━━━━━\u001b[0m \u001b[32m13.3/13.3 MB\u001b[0m \u001b[31m49.2 MB/s\u001b[0m eta \u001b[36m0:00:00\u001b[0m\n",
            "\u001b[?25hRequirement already satisfied: absl-py in /usr/local/lib/python3.10/dist-packages (from keras>=3.2.0->scikeras) (1.4.0)\n",
            "Requirement already satisfied: numpy in /usr/local/lib/python3.10/dist-packages (from keras>=3.2.0->scikeras) (1.25.2)\n",
            "Requirement already satisfied: rich in /usr/local/lib/python3.10/dist-packages (from keras>=3.2.0->scikeras) (13.7.1)\n",
            "Collecting namex (from keras>=3.2.0->scikeras)\n",
            "  Downloading namex-0.0.8-py3-none-any.whl (5.8 kB)\n",
            "Requirement already satisfied: h5py in /usr/local/lib/python3.10/dist-packages (from keras>=3.2.0->scikeras) (3.9.0)\n",
            "Collecting optree (from keras>=3.2.0->scikeras)\n",
            "  Downloading optree-0.11.0-cp310-cp310-manylinux_2_17_x86_64.manylinux2014_x86_64.whl (311 kB)\n",
            "\u001b[2K     \u001b[90m━━━━━━━━━━━━━━━━━━━━━━━━━━━━━━━━━━━━━━━━\u001b[0m \u001b[32m311.2/311.2 kB\u001b[0m \u001b[31m44.4 MB/s\u001b[0m eta \u001b[36m0:00:00\u001b[0m\n",
            "\u001b[?25hRequirement already satisfied: ml-dtypes in /usr/local/lib/python3.10/dist-packages (from keras>=3.2.0->scikeras) (0.2.0)\n",
            "Requirement already satisfied: scipy>=1.6.0 in /usr/local/lib/python3.10/dist-packages (from scikit-learn>=1.4.2->scikeras) (1.11.4)\n",
            "Requirement already satisfied: joblib>=1.2.0 in /usr/local/lib/python3.10/dist-packages (from scikit-learn>=1.4.2->scikeras) (1.4.2)\n",
            "Requirement already satisfied: threadpoolctl>=3.1.0 in /usr/local/lib/python3.10/dist-packages (from scikit-learn>=1.4.2->scikeras) (3.5.0)\n",
            "Requirement already satisfied: typing-extensions>=4.0.0 in /usr/local/lib/python3.10/dist-packages (from optree->keras>=3.2.0->scikeras) (4.12.1)\n",
            "Requirement already satisfied: markdown-it-py>=2.2.0 in /usr/local/lib/python3.10/dist-packages (from rich->keras>=3.2.0->scikeras) (3.0.0)\n",
            "Requirement already satisfied: pygments<3.0.0,>=2.13.0 in /usr/local/lib/python3.10/dist-packages (from rich->keras>=3.2.0->scikeras) (2.16.1)\n",
            "Requirement already satisfied: mdurl~=0.1 in /usr/local/lib/python3.10/dist-packages (from markdown-it-py>=2.2.0->rich->keras>=3.2.0->scikeras) (0.1.2)\n",
            "Installing collected packages: namex, optree, scikit-learn, keras, scikeras\n",
            "  Attempting uninstall: scikit-learn\n",
            "    Found existing installation: scikit-learn 1.2.2\n",
            "    Uninstalling scikit-learn-1.2.2:\n",
            "      Successfully uninstalled scikit-learn-1.2.2\n",
            "  Attempting uninstall: keras\n",
            "    Found existing installation: keras 2.15.0\n",
            "    Uninstalling keras-2.15.0:\n",
            "      Successfully uninstalled keras-2.15.0\n",
            "\u001b[31mERROR: pip's dependency resolver does not currently take into account all the packages that are installed. This behaviour is the source of the following dependency conflicts.\n",
            "tensorflow 2.15.0 requires keras<2.16,>=2.15.0, but you have keras 3.3.3 which is incompatible.\u001b[0m\u001b[31m\n",
            "\u001b[0mSuccessfully installed keras-3.3.3 namex-0.0.8 optree-0.11.0 scikeras-0.13.0 scikit-learn-1.5.0\n"
          ]
        },
        {
          "output_type": "display_data",
          "data": {
            "application/vnd.colab-display-data+json": {
              "pip_warning": {
                "packages": [
                  "keras"
                ]
              },
              "id": "c4513f8fb7224dd58fce203d7e5764d1"
            }
          },
          "metadata": {}
        }
      ]
    },
    {
      "cell_type": "code",
      "source": [
        "!pip install tensorflow\n"
      ],
      "metadata": {
        "colab": {
          "base_uri": "https://localhost:8080/",
          "height": 1000
        },
        "id": "ZUwoJe5iYQqU",
        "outputId": "97fd3844-136b-4177-c1cd-a6c86227355f"
      },
      "execution_count": 12,
      "outputs": [
        {
          "output_type": "stream",
          "name": "stdout",
          "text": [
            "Requirement already satisfied: tensorflow in /usr/local/lib/python3.10/dist-packages (2.15.0)\n",
            "Requirement already satisfied: absl-py>=1.0.0 in /usr/local/lib/python3.10/dist-packages (from tensorflow) (1.4.0)\n",
            "Requirement already satisfied: astunparse>=1.6.0 in /usr/local/lib/python3.10/dist-packages (from tensorflow) (1.6.3)\n",
            "Requirement already satisfied: flatbuffers>=23.5.26 in /usr/local/lib/python3.10/dist-packages (from tensorflow) (24.3.25)\n",
            "Requirement already satisfied: gast!=0.5.0,!=0.5.1,!=0.5.2,>=0.2.1 in /usr/local/lib/python3.10/dist-packages (from tensorflow) (0.5.4)\n",
            "Requirement already satisfied: google-pasta>=0.1.1 in /usr/local/lib/python3.10/dist-packages (from tensorflow) (0.2.0)\n",
            "Requirement already satisfied: h5py>=2.9.0 in /usr/local/lib/python3.10/dist-packages (from tensorflow) (3.9.0)\n",
            "Requirement already satisfied: libclang>=13.0.0 in /usr/local/lib/python3.10/dist-packages (from tensorflow) (18.1.1)\n",
            "Requirement already satisfied: ml-dtypes~=0.2.0 in /usr/local/lib/python3.10/dist-packages (from tensorflow) (0.2.0)\n",
            "Requirement already satisfied: numpy<2.0.0,>=1.23.5 in /usr/local/lib/python3.10/dist-packages (from tensorflow) (1.25.2)\n",
            "Requirement already satisfied: opt-einsum>=2.3.2 in /usr/local/lib/python3.10/dist-packages (from tensorflow) (3.3.0)\n",
            "Requirement already satisfied: packaging in /usr/local/lib/python3.10/dist-packages (from tensorflow) (24.0)\n",
            "Requirement already satisfied: protobuf!=4.21.0,!=4.21.1,!=4.21.2,!=4.21.3,!=4.21.4,!=4.21.5,<5.0.0dev,>=3.20.3 in /usr/local/lib/python3.10/dist-packages (from tensorflow) (3.20.3)\n",
            "Requirement already satisfied: setuptools in /usr/local/lib/python3.10/dist-packages (from tensorflow) (67.7.2)\n",
            "Requirement already satisfied: six>=1.12.0 in /usr/local/lib/python3.10/dist-packages (from tensorflow) (1.16.0)\n",
            "Requirement already satisfied: termcolor>=1.1.0 in /usr/local/lib/python3.10/dist-packages (from tensorflow) (2.4.0)\n",
            "Requirement already satisfied: typing-extensions>=3.6.6 in /usr/local/lib/python3.10/dist-packages (from tensorflow) (4.12.1)\n",
            "Requirement already satisfied: wrapt<1.15,>=1.11.0 in /usr/local/lib/python3.10/dist-packages (from tensorflow) (1.14.1)\n",
            "Requirement already satisfied: tensorflow-io-gcs-filesystem>=0.23.1 in /usr/local/lib/python3.10/dist-packages (from tensorflow) (0.37.0)\n",
            "Requirement already satisfied: grpcio<2.0,>=1.24.3 in /usr/local/lib/python3.10/dist-packages (from tensorflow) (1.64.1)\n",
            "Requirement already satisfied: tensorboard<2.16,>=2.15 in /usr/local/lib/python3.10/dist-packages (from tensorflow) (2.15.2)\n",
            "Requirement already satisfied: tensorflow-estimator<2.16,>=2.15.0 in /usr/local/lib/python3.10/dist-packages (from tensorflow) (2.15.0)\n",
            "Collecting keras<2.16,>=2.15.0 (from tensorflow)\n",
            "  Downloading keras-2.15.0-py3-none-any.whl (1.7 MB)\n",
            "\u001b[2K     \u001b[90m━━━━━━━━━━━━━━━━━━━━━━━━━━━━━━━━━━━━━━━━\u001b[0m \u001b[32m1.7/1.7 MB\u001b[0m \u001b[31m8.4 MB/s\u001b[0m eta \u001b[36m0:00:00\u001b[0m\n",
            "\u001b[?25hRequirement already satisfied: wheel<1.0,>=0.23.0 in /usr/local/lib/python3.10/dist-packages (from astunparse>=1.6.0->tensorflow) (0.43.0)\n",
            "Requirement already satisfied: google-auth<3,>=1.6.3 in /usr/local/lib/python3.10/dist-packages (from tensorboard<2.16,>=2.15->tensorflow) (2.27.0)\n",
            "Requirement already satisfied: google-auth-oauthlib<2,>=0.5 in /usr/local/lib/python3.10/dist-packages (from tensorboard<2.16,>=2.15->tensorflow) (1.2.0)\n",
            "Requirement already satisfied: markdown>=2.6.8 in /usr/local/lib/python3.10/dist-packages (from tensorboard<2.16,>=2.15->tensorflow) (3.6)\n",
            "Requirement already satisfied: requests<3,>=2.21.0 in /usr/local/lib/python3.10/dist-packages (from tensorboard<2.16,>=2.15->tensorflow) (2.31.0)\n",
            "Requirement already satisfied: tensorboard-data-server<0.8.0,>=0.7.0 in /usr/local/lib/python3.10/dist-packages (from tensorboard<2.16,>=2.15->tensorflow) (0.7.2)\n",
            "Requirement already satisfied: werkzeug>=1.0.1 in /usr/local/lib/python3.10/dist-packages (from tensorboard<2.16,>=2.15->tensorflow) (3.0.3)\n",
            "Requirement already satisfied: cachetools<6.0,>=2.0.0 in /usr/local/lib/python3.10/dist-packages (from google-auth<3,>=1.6.3->tensorboard<2.16,>=2.15->tensorflow) (5.3.3)\n",
            "Requirement already satisfied: pyasn1-modules>=0.2.1 in /usr/local/lib/python3.10/dist-packages (from google-auth<3,>=1.6.3->tensorboard<2.16,>=2.15->tensorflow) (0.4.0)\n",
            "Requirement already satisfied: rsa<5,>=3.1.4 in /usr/local/lib/python3.10/dist-packages (from google-auth<3,>=1.6.3->tensorboard<2.16,>=2.15->tensorflow) (4.9)\n",
            "Requirement already satisfied: requests-oauthlib>=0.7.0 in /usr/local/lib/python3.10/dist-packages (from google-auth-oauthlib<2,>=0.5->tensorboard<2.16,>=2.15->tensorflow) (1.3.1)\n",
            "Requirement already satisfied: charset-normalizer<4,>=2 in /usr/local/lib/python3.10/dist-packages (from requests<3,>=2.21.0->tensorboard<2.16,>=2.15->tensorflow) (3.3.2)\n",
            "Requirement already satisfied: idna<4,>=2.5 in /usr/local/lib/python3.10/dist-packages (from requests<3,>=2.21.0->tensorboard<2.16,>=2.15->tensorflow) (3.7)\n",
            "Requirement already satisfied: urllib3<3,>=1.21.1 in /usr/local/lib/python3.10/dist-packages (from requests<3,>=2.21.0->tensorboard<2.16,>=2.15->tensorflow) (2.0.7)\n",
            "Requirement already satisfied: certifi>=2017.4.17 in /usr/local/lib/python3.10/dist-packages (from requests<3,>=2.21.0->tensorboard<2.16,>=2.15->tensorflow) (2024.6.2)\n",
            "Requirement already satisfied: MarkupSafe>=2.1.1 in /usr/local/lib/python3.10/dist-packages (from werkzeug>=1.0.1->tensorboard<2.16,>=2.15->tensorflow) (2.1.5)\n",
            "Requirement already satisfied: pyasn1<0.7.0,>=0.4.6 in /usr/local/lib/python3.10/dist-packages (from pyasn1-modules>=0.2.1->google-auth<3,>=1.6.3->tensorboard<2.16,>=2.15->tensorflow) (0.6.0)\n",
            "Requirement already satisfied: oauthlib>=3.0.0 in /usr/local/lib/python3.10/dist-packages (from requests-oauthlib>=0.7.0->google-auth-oauthlib<2,>=0.5->tensorboard<2.16,>=2.15->tensorflow) (3.2.2)\n",
            "Installing collected packages: keras\n",
            "  Attempting uninstall: keras\n",
            "    Found existing installation: keras 3.3.3\n",
            "    Uninstalling keras-3.3.3:\n",
            "      Successfully uninstalled keras-3.3.3\n",
            "\u001b[31mERROR: pip's dependency resolver does not currently take into account all the packages that are installed. This behaviour is the source of the following dependency conflicts.\n",
            "scikeras 0.13.0 requires keras>=3.2.0, but you have keras 2.15.0 which is incompatible.\u001b[0m\u001b[31m\n",
            "\u001b[0mSuccessfully installed keras-2.15.0\n"
          ]
        },
        {
          "output_type": "display_data",
          "data": {
            "application/vnd.colab-display-data+json": {
              "pip_warning": {
                "packages": [
                  "keras"
                ]
              },
              "id": "27044ff08d0f45859e04740e76645fab"
            }
          },
          "metadata": {}
        }
      ]
    },
    {
      "cell_type": "code",
      "source": [
        "import tensorflow as tf\n",
        "from tensorflow.keras.models import Sequential\n",
        "from tensorflow.keras.layers import Dense\n",
        "from sklearn.metrics import accuracy_score, precision_score, recall_score, f1_score\n",
        "from sklearn.model_selection import train_test_split\n",
        "\n",
        "# Khởi tạo mô hình Sequential\n",
        "model = Sequential()\n",
        "\n",
        "# Thêm lớp ẩn với 100 nút và hàm kích hoạt ReLU\n",
        "model.add(Dense(100, activation='relu', input_shape=(X_train.shape[1],)))\n",
        "\n",
        "# Thêm lớp đầu ra với số nút bằng số lớp (giả sử đây là bài toán phân loại nhiều lớp)\n",
        "# Ở đây sử dụng hàm softmax cho phân loại nhiều lớp\n",
        "model.add(Dense(len(np.unique(y_train)), activation='softmax'))\n",
        "\n",
        "# Biên dịch mô hình với bộ tối ưu hóa Adam, learning rate 0.001 và hàm mất mát categorical crossentropy\n",
        "model.compile(optimizer=tf.keras.optimizers.Adam(learning_rate=0.001),\n",
        "              loss='sparse_categorical_crossentropy',\n",
        "              metrics=['accuracy'])\n",
        "\n",
        "# Huấn luyện mô hình\n",
        "history = model.fit(X_train, y_train, epochs=10, batch_size=32, validation_data=(X_test, y_test), verbose=1)\n",
        "\n",
        "# Dự đoán trên tập kiểm tra\n",
        "y_pred = model.predict(X_test)\n",
        "y_pred_classes = np.argmax(y_pred, axis=1)\n",
        "\n",
        "# Tính các chỉ số đo lường hiệu suất\n",
        "accuracyNN = accuracy_score(y_test, y_pred_classes)\n",
        "precisionNN = precision_score(y_test, y_pred_classes, average='weighted')\n",
        "recallNN = recall_score(y_test, y_pred_classes, average='weighted')\n",
        "f1NN = f1_score(y_test, y_pred_classes, average='weighted')\n",
        "\n",
        "# In các chỉ số\n",
        "print(f'Accuracy: {accuracyNN}')\n",
        "print(f'Precision: {precisionNN}')\n",
        "print(f'Recall: {recallNN}')\n",
        "print(f'F1 Score: {f1NN}')\n"
      ],
      "metadata": {
        "colab": {
          "base_uri": "https://localhost:8080/"
        },
        "id": "ddnB7KZoiNBB",
        "outputId": "e9c1e941-ad8b-41c5-bacb-ed2dd465d134"
      },
      "execution_count": 9,
      "outputs": [
        {
          "output_type": "stream",
          "name": "stdout",
          "text": [
            "Epoch 1/10\n",
            "1248/1248 [==============================] - 7s 5ms/step - loss: 2.4899 - accuracy: 0.3449 - val_loss: 1.7706 - val_accuracy: 0.4656\n",
            "Epoch 2/10\n",
            "1248/1248 [==============================] - 4s 3ms/step - loss: 1.6395 - accuracy: 0.4887 - val_loss: 1.5339 - val_accuracy: 0.5194\n",
            "Epoch 3/10\n",
            "1248/1248 [==============================] - 4s 3ms/step - loss: 1.4136 - accuracy: 0.5440 - val_loss: 1.3449 - val_accuracy: 0.5590\n",
            "Epoch 4/10\n",
            "1248/1248 [==============================] - 5s 4ms/step - loss: 1.2657 - accuracy: 0.5823 - val_loss: 1.2432 - val_accuracy: 0.5837\n",
            "Epoch 5/10\n",
            "1248/1248 [==============================] - 4s 3ms/step - loss: 1.1574 - accuracy: 0.6092 - val_loss: 1.1387 - val_accuracy: 0.6195\n",
            "Epoch 6/10\n",
            "1248/1248 [==============================] - 4s 3ms/step - loss: 1.0839 - accuracy: 0.6271 - val_loss: 1.0765 - val_accuracy: 0.6238\n",
            "Epoch 7/10\n",
            "1248/1248 [==============================] - 5s 4ms/step - loss: 1.0322 - accuracy: 0.6404 - val_loss: 1.0338 - val_accuracy: 0.6384\n",
            "Epoch 8/10\n",
            "1248/1248 [==============================] - 4s 3ms/step - loss: 0.9901 - accuracy: 0.6502 - val_loss: 1.0462 - val_accuracy: 0.6304\n",
            "Epoch 9/10\n",
            "1248/1248 [==============================] - 5s 4ms/step - loss: 0.9558 - accuracy: 0.6609 - val_loss: 0.9814 - val_accuracy: 0.6493\n",
            "Epoch 10/10\n",
            "1248/1248 [==============================] - 8s 6ms/step - loss: 0.9315 - accuracy: 0.6650 - val_loss: 0.9574 - val_accuracy: 0.6575\n",
            "312/312 [==============================] - 1s 2ms/step\n",
            "Accuracy: 0.6575150300601202\n",
            "Precision: 0.6518727864967059\n",
            "Recall: 0.6575150300601202\n",
            "F1 Score: 0.6377765830134675\n"
          ]
        }
      ]
    },
    {
      "cell_type": "code",
      "execution_count": null,
      "metadata": {
        "colab": {
          "base_uri": "https://localhost:8080/"
        },
        "id": "VZqgde7agUOm",
        "outputId": "b74aef7e-879d-48e0-ac50-b1807d004dd8"
      },
      "outputs": [
        {
          "output_type": "stream",
          "name": "stdout",
          "text": [
            "Model: \"sequential_10\"\n",
            "_________________________________________________________________\n",
            " Layer (type)                Output Shape              Param #   \n",
            "=================================================================\n",
            " embedding_10 (Embedding)    (None, 47, 128)           4992      \n",
            "                                                                 \n",
            " bidirectional_20 (Bidirect  (None, 47, 256)           263168    \n",
            " ional)                                                          \n",
            "                                                                 \n",
            " seq_self_attention_10 (Seq  (None, 47, 256)           16449     \n",
            " SelfAttention)                                                  \n",
            "                                                                 \n",
            " dropout_20 (Dropout)        (None, 47, 256)           0         \n",
            "                                                                 \n",
            " bidirectional_21 (Bidirect  (None, 47, 256)           394240    \n",
            " ional)                                                          \n",
            "                                                                 \n",
            " seq_weighted_attention_10   (None, 256)               257       \n",
            " (SeqWeightedAttention)                                          \n",
            "                                                                 \n",
            " dropout_21 (Dropout)        (None, 256)               0         \n",
            "                                                                 \n",
            " dense_10 (Dense)            (None, 50)                12850     \n",
            "                                                                 \n",
            "=================================================================\n",
            "Total params: 691956 (2.64 MB)\n",
            "Trainable params: 691956 (2.64 MB)\n",
            "Non-trainable params: 0 (0.00 Byte)\n",
            "_________________________________________________________________\n"
          ]
        }
      ],
      "source": [
        "# Chọn kích thước nhúng\n",
        "embedding_dim = 128\n",
        "\n",
        "# Định nghĩa kiến trúc mô hình\n",
        "model = Sequential()\n",
        "\n",
        "# Thêm lớp nhúng với kích thước đầu vào, kích thước đầu ra và độ dài đầu vào\n",
        "model.add(Embedding(input_dim=vocab_size, output_dim=embedding_dim, input_length=max_sequence_length))\n",
        "\n",
        "# Thêm lớp LSTM đối xứng\n",
        "model.add(Bidirectional(LSTM(units=128, return_sequences=True)))\n",
        "\n",
        "# Thêm tự chú ý dãn dấu trình tự\n",
        "model.add(SeqSelfAttention(attention_activation='sigmoid'))\n",
        "\n",
        "# Thêm lớp dropout đầu tiên để tránh overfitting\n",
        "model.add(Dropout(0.01))\n",
        "\n",
        "# Thêm lớp LSTM đối xứng khác\n",
        "model.add(Bidirectional(LSTM(units=128, return_sequences=True)))\n",
        "\n",
        "# Thêm chú ý trọng số trình tự\n",
        "model.add(SeqWeightedAttention())\n",
        "\n",
        "# Thêm lớp dropout thứ hai để tránh overfitting\n",
        "model.add(Dropout(0.01))\n",
        "\n",
        "# Thêm lớp kích hoạt softmax cho việc phân loại nhiều lớp\n",
        "model.add(Dense(units=len(label_encoder.classes_), activation='softmax'))\n",
        "\n",
        "# Biên dịch mô hình\n",
        "model.compile(optimizer=Adam(learning_rate=0.01), loss='sparse_categorical_crossentropy', metrics=['accuracy'])\n",
        "\n",
        "# Tóm tắt mô hình\n",
        "model.summary()"
      ]
    },
    {
      "cell_type": "code",
      "execution_count": null,
      "metadata": {
        "colab": {
          "base_uri": "https://localhost:8080/"
        },
        "id": "32kEpbFGgyaq",
        "outputId": "7271d37a-4183-4fd6-db66-895ae6996319"
      },
      "outputs": [
        {
          "output_type": "stream",
          "name": "stdout",
          "text": [
            "Epoch 1/10\n",
            "312/312 [==============================] - 18s 30ms/step - loss: 2.0630 - accuracy: 0.3791 - val_loss: 1.0432 - val_accuracy: 0.6293\n",
            "Epoch 2/10\n",
            "312/312 [==============================] - 8s 26ms/step - loss: 0.8826 - accuracy: 0.6727 - val_loss: 0.7189 - val_accuracy: 0.7199\n",
            "Epoch 3/10\n",
            "312/312 [==============================] - 8s 25ms/step - loss: 0.6625 - accuracy: 0.7411 - val_loss: 0.5878 - val_accuracy: 0.7693\n",
            "Epoch 4/10\n",
            "312/312 [==============================] - 7s 24ms/step - loss: 0.5618 - accuracy: 0.7840 - val_loss: 0.5351 - val_accuracy: 0.7996\n",
            "Epoch 5/10\n",
            "312/312 [==============================] - 8s 26ms/step - loss: 0.5148 - accuracy: 0.7982 - val_loss: 0.4985 - val_accuracy: 0.8044\n",
            "Epoch 6/10\n",
            "312/312 [==============================] - 7s 23ms/step - loss: 0.4710 - accuracy: 0.8135 - val_loss: 0.4821 - val_accuracy: 0.8121\n",
            "Epoch 7/10\n",
            "312/312 [==============================] - 8s 24ms/step - loss: 0.4415 - accuracy: 0.8232 - val_loss: 0.4444 - val_accuracy: 0.8254\n",
            "Epoch 8/10\n",
            "312/312 [==============================] - 7s 23ms/step - loss: 0.4230 - accuracy: 0.8294 - val_loss: 0.4461 - val_accuracy: 0.8240\n",
            "Epoch 9/10\n",
            "312/312 [==============================] - 8s 27ms/step - loss: 0.4361 - accuracy: 0.8271 - val_loss: 0.7165 - val_accuracy: 0.7553\n",
            "Epoch 10/10\n",
            "312/312 [==============================] - 7s 23ms/step - loss: 0.4895 - accuracy: 0.8080 - val_loss: 0.4417 - val_accuracy: 0.8263\n"
          ]
        }
      ],
      "source": [
        "history = model.fit(X_train, y_train, epochs=10, batch_size=128, validation_data=(X_test, y_test))"
      ]
    },
    {
      "cell_type": "code",
      "source": [
        "# Đánh giá mô hình trên tập test\n",
        "test_loss, test_accuracy = model.evaluate(X_test, y_test)\n",
        "print(f'Test Loss: {test_loss}')\n",
        "print(f'Test Accuracy: {test_accuracy}')"
      ],
      "metadata": {
        "colab": {
          "base_uri": "https://localhost:8080/"
        },
        "id": "SbgBL3tlhcfU",
        "outputId": "7b553891-f794-4c01-ea0e-a316f0335ec1"
      },
      "execution_count": null,
      "outputs": [
        {
          "output_type": "stream",
          "name": "stdout",
          "text": [
            "312/312 [==============================] - 2s 7ms/step - loss: 0.4417 - accuracy: 0.8263\n",
            "Test Loss: 0.4417288303375244\n",
            "Test Accuracy: 0.8262525200843811\n"
          ]
        }
      ]
    },
    {
      "cell_type": "code",
      "source": [
        "model.save('/content/drive/MyDrive/DGA-model/la_mul07_model.h5')"
      ],
      "metadata": {
        "colab": {
          "base_uri": "https://localhost:8080/"
        },
        "id": "V672-YA8lMbX",
        "outputId": "8b7218ce-4781-440f-a3ed-446f41d93711"
      },
      "execution_count": null,
      "outputs": [
        {
          "output_type": "stream",
          "name": "stderr",
          "text": [
            "/usr/local/lib/python3.10/dist-packages/keras/src/engine/training.py:3103: UserWarning: You are saving your model as an HDF5 file via `model.save()`. This file format is considered legacy. We recommend using instead the native Keras format, e.g. `model.save('my_model.keras')`.\n",
            "  saving_api.save_model(\n"
          ]
        }
      ]
    },
    {
      "cell_type": "code",
      "source": [
        "import pandas as pd\n",
        "from sklearn.model_selection import train_test_split\n",
        "from sklearn.preprocessing import LabelEncoder\n",
        "from keras.preprocessing.text import Tokenizer\n",
        "from keras.preprocessing.sequence import pad_sequences\n",
        "from keras.models import Sequential\n",
        "from keras.layers import Embedding, Bidirectional, LSTM, Dense, Dropout\n",
        "from keras.optimizers import Adam\n",
        "from keras_self_attention import SeqSelfAttention, SeqWeightedAttention\n",
        "from sklearn.metrics import classification_report, precision_score, recall_score, f1_score\n",
        "import matplotlib.pyplot as plt\n",
        "import numpy as np\n",
        "\n",
        "# Dự đoán các lớp cho tập kiểm tra\n",
        "y_pred = model.predict(X_test)\n",
        "y_pred_classes = np.argmax(y_pred, axis=1)\n",
        "\n",
        "\n",
        "# Chuyển đổi các chỉ số lớp trở lại tên của chúng\n",
        "target_names = [i for i in sorted(custom_mapping.keys())]\n",
        "\n",
        "# Báo cáo phân loại\n",
        "report = classification_report(y_test, y_pred_classes, target_names=target_names, output_dict=True)\n",
        "print(\"Classification Report:\")\n",
        "print(classification_report(y_test, y_pred_classes, target_names=target_names))\n",
        "\n",
        "# Precision, Recall, F1-Score trung bình theo micro và macro\n",
        "micro_precision = precision_score(y_test, y_pred_classes, average='micro')\n",
        "micro_recall = recall_score(y_test, y_pred_classes, average='micro')\n",
        "micro_f1 = f1_score(y_test, y_pred_classes, average='micro')\n",
        "\n",
        "macro_precision = precision_score(y_test, y_pred_classes, average='macro')\n",
        "macro_recall = recall_score(y_test, y_pred_classes, average='macro')\n",
        "macro_f1 = f1_score(y_test, y_pred_classes, average='macro')\n",
        "\n",
        "print(f'Micro average Precision: {micro_precision}')\n",
        "print(f'Micro average Recall: {micro_recall}')\n",
        "print(f'Micro average F1-Score: {micro_f1}')\n",
        "print(f'Macro average Precision: {macro_precision}')\n",
        "print(f'Macro average Recall: {macro_recall}')\n",
        "print(f'Macro average F1-Score: {macro_f1}')\n"
      ],
      "metadata": {
        "colab": {
          "base_uri": "https://localhost:8080/"
        },
        "id": "XW3ArzcnldFl",
        "outputId": "174ad8be-981d-47e3-8318-0b12a919766a"
      },
      "execution_count": null,
      "outputs": [
        {
          "output_type": "stream",
          "name": "stdout",
          "text": [
            "312/312 [==============================] - 3s 6ms/step\n",
            "Classification Report:\n",
            "              precision    recall  f1-score   support\n",
            "\n",
            "     alureon       0.39      0.65      0.49       195\n",
            "     banjori       1.00      1.00      1.00       175\n",
            "       bedep       0.77      0.63      0.69       202\n",
            "    ccleaner       0.94      0.98      0.96       203\n",
            "      chinad       0.53      0.08      0.14       195\n",
            "     corebot       0.45      0.71      0.55       213\n",
            "cryptolocker       0.96      0.94      0.95       199\n",
            "    dircrypt       0.91      0.53      0.67       188\n",
            "        dyre       1.00      1.00      1.00       190\n",
            "   fobber_v1       0.33      0.60      0.42       169\n",
            "   fobber_v2       0.83      0.81      0.82       209\n",
            "    gozi_gpl       0.91      0.71      0.80       208\n",
            " gozi_luther       0.91      0.63      0.74       205\n",
            "   gozi_nasa       0.92      0.91      0.92       208\n",
            "gozi_rfc4343       0.95      1.00      0.97       206\n",
            "   kraken_v1       1.00      1.00      1.00       206\n",
            "   kraken_v2       0.97      1.00      0.99       195\n",
            "       locky       1.00      1.00      1.00       200\n",
            "      matsnu       0.75      0.98      0.85       198\n",
            "  murofet_v1       0.65      0.97      0.78       206\n",
            "  murofet_v2       1.00      0.99      0.99       194\n",
            "  murofet_v3       0.98      1.00      0.99       207\n",
            "      necurs       0.98      1.00      0.99       201\n",
            "      nymaim       1.00      1.00      1.00       205\n",
            "    padcrypt       1.00      1.00      1.00       223\n",
            "        pizd       0.97      0.89      0.93       197\n",
            " proslikefan       0.92      0.74      0.82       189\n",
            "      pushdo       0.97      0.49      0.65       197\n",
            "      pykspa       1.00      1.00      1.00       184\n",
            "pykspa_noise       1.00      0.94      0.97       192\n",
            "      qadars       1.00      1.00      1.00       197\n",
            "      qakbot       0.59      0.59      0.59       200\n",
            "       ramdo       0.41      0.48      0.44       193\n",
            "      ramnit       1.00      1.00      1.00       231\n",
            "  ranbyus_v1       0.88      0.99      0.93       186\n",
            "  ranbyus_v2       0.40      0.25      0.31       217\n",
            "      rovnix       0.79      0.98      0.88       194\n",
            "     shiotob       0.84      0.75      0.79       190\n",
            "       simda       0.81      0.79      0.80       187\n",
            "      sisron       0.68      0.61      0.64       220\n",
            "  suppobox_1       0.72      0.59      0.65       209\n",
            "  suppobox_2       0.99      0.99      0.99       202\n",
            "  suppobox_3       0.92      0.92      0.92       213\n",
            "       symmi       1.00      1.00      1.00       214\n",
            "  tempedreve       0.96      0.97      0.97       184\n",
            "       tinba       0.97      0.92      0.94       216\n",
            "  vawtrak_v1       0.69      0.58      0.63       191\n",
            "  vawtrak_v2       0.56      0.78      0.65       191\n",
            "  vawtrak_v3       0.92      0.99      0.96       195\n",
            " zeus-newgoz       0.98      0.93      0.95       191\n",
            "\n",
            "    accuracy                           0.83      9980\n",
            "   macro avg       0.84      0.83      0.82      9980\n",
            "weighted avg       0.84      0.83      0.82      9980\n",
            "\n",
            "Micro average Precision: 0.82625250501002\n",
            "Micro average Recall: 0.82625250501002\n",
            "Micro average F1-Score: 0.82625250501002\n",
            "Macro average Precision: 0.842170146291474\n",
            "Macro average Recall: 0.8258123063191859\n",
            "Macro average F1-Score: 0.8225615218024079\n"
          ]
        }
      ]
    },
    {
      "cell_type": "code",
      "source": [
        "from sklearn.ensemble import AdaBoostClassifier\n",
        "from sklearn.tree import DecisionTreeClassifier\n",
        "\n",
        "# Khởi tạo mô hình cây quyết định yếu (weak learner)\n",
        "weak_learner = DecisionTreeClassifier(max_depth=1)\n",
        "\n",
        "# Khởi tạo mô hình AdaBoost với 50 cây quyết định và thuật toán SAMME.R\n",
        "model = AdaBoostClassifier(\n",
        "    estimator=weak_learner,\n",
        "    n_estimators=50,\n",
        "    algorithm='SAMME.R',\n",
        "    random_state=42\n",
        ")\n",
        "\n",
        "# Huấn luyện mô hình\n",
        "model.fit(X_train, y_train)\n",
        "\n",
        "# Dự đoán trên tập kiểm tra\n",
        "y_pred = model.predict(X_test)\n",
        "\n",
        "# Tính các chỉ số đo lường hiệu suất\n",
        "accuracyAB = accuracy_score(y_test, y_pred)\n",
        "precisionAB = precision_score(y_test, y_pred, average='weighted')\n",
        "recallAB = recall_score(y_test, y_pred, average='weighted')\n",
        "f1AB = f1_score(y_test, y_pred, average='weighted')\n",
        "\n",
        "# In các chỉ số\n",
        "print(f'Accuracy: {accuracyAB}')\n",
        "print(f'Precision: {precisionAB}')\n",
        "print(f'Recall: {recallAB}')\n",
        "print(f'F1 Score: {f1AB}')"
      ],
      "metadata": {
        "colab": {
          "base_uri": "https://localhost:8080/"
        },
        "id": "2tEAXf-a4lcx",
        "outputId": "ab77e791-6634-49ff-a941-2f6105456ca3"
      },
      "execution_count": 10,
      "outputs": [
        {
          "output_type": "stream",
          "name": "stderr",
          "text": [
            "/usr/local/lib/python3.10/dist-packages/sklearn/ensemble/_weight_boosting.py:527: FutureWarning: The SAMME.R algorithm (the default) is deprecated and will be removed in 1.6. Use the SAMME algorithm to circumvent this warning.\n",
            "  warnings.warn(\n"
          ]
        },
        {
          "output_type": "stream",
          "name": "stdout",
          "text": [
            "Accuracy: 0.03837675350701403\n",
            "Precision: 0.010611998494257594\n",
            "Recall: 0.03837675350701403\n",
            "F1 Score: 0.014516310774136508\n"
          ]
        },
        {
          "output_type": "stream",
          "name": "stderr",
          "text": [
            "/usr/local/lib/python3.10/dist-packages/sklearn/metrics/_classification.py:1517: UndefinedMetricWarning: Precision is ill-defined and being set to 0.0 in labels with no predicted samples. Use `zero_division` parameter to control this behavior.\n",
            "  _warn_prf(average, modifier, f\"{metric.capitalize()} is\", len(result))\n"
          ]
        }
      ]
    },
    {
      "cell_type": "code",
      "source": [
        "from sklearn.ensemble import RandomForestClassifier\n",
        "\n",
        "# Khởi tạo mô hình RandomForest với các tham số cụ thể\n",
        "rf_model = RandomForestClassifier(\n",
        "    n_estimators=10,             # Số lượng cây\n",
        "    max_features=5,              # Số lượng thuộc tính tối đa tại mỗi lần phân tách\n",
        "    min_samples_split=5,         # Không phân tách các tập con nhỏ hơn 5\n",
        "    random_state=42\n",
        ")\n",
        "\n",
        "# Huấn luyện mô hình\n",
        "rf_model.fit(X_train, y_train)\n",
        "\n",
        "# Dự đoán trên tập kiểm tra\n",
        "y_pred = rf_model.predict(X_test)\n",
        "\n",
        "# Tính các chỉ số đo lường hiệu suất\n",
        "accuracyRF = accuracy_score(y_test, y_pred)\n",
        "precisionRF = precision_score(y_test, y_pred, average='weighted')\n",
        "recallRF = recall_score(y_test, y_pred, average='weighted')\n",
        "f1RF = f1_score(y_test, y_pred, average='weighted')\n",
        "\n",
        "# In các chỉ số\n",
        "print(f'Accuracy: {accuracyRF}')\n",
        "print(f'Precision: {precisionRF}')\n",
        "print(f'Recall: {recallRF}')\n",
        "print(f'F1 Score: {f1RF}')"
      ],
      "metadata": {
        "id": "kV_swy5W41RP",
        "colab": {
          "base_uri": "https://localhost:8080/"
        },
        "outputId": "e596f4d1-992a-43b1-cd85-4db071b4c707"
      },
      "execution_count": 11,
      "outputs": [
        {
          "output_type": "stream",
          "name": "stdout",
          "text": [
            "Accuracy: 0.7367735470941884\n",
            "Precision: 0.7329807987842042\n",
            "Recall: 0.7367735470941884\n",
            "F1 Score: 0.7290397098417609\n"
          ]
        }
      ]
    },
    {
      "cell_type": "code",
      "source": [
        "from sklearn.svm import SVC\n",
        "\n",
        "# Khởi tạo mô hình SVM với các tham số cụ thể\n",
        "svm_model = SVC(\n",
        "    C=1.0,               # Tham số C\n",
        "    kernel='rbf',        # Sử dụng RBF kernel\n",
        "    gamma='scale',       # Sử dụng gamma='scale' theo mặc định của scikit-learn\n",
        "    tol=0.10,            # Epsilon (E) = 0.10\n",
        "    random_state=42\n",
        ")\n",
        "\n",
        "# Huấn luyện mô hình\n",
        "svm_model.fit(X_train, y_train)\n",
        "\n",
        "# Dự đoán trên tập kiểm tra\n",
        "y_pred = svm_model.predict(X_test)\n",
        "\n",
        "# Tính các chỉ số đo lường hiệu suất\n",
        "accuracySVM = accuracy_score(y_test, y_pred)\n",
        "precisionSVM = precision_score(y_test, y_pred, average='weighted')\n",
        "recallSVM = recall_score(y_test, y_pred, average='weighted')\n",
        "f1SVM = f1_score(y_test, y_pred, average='weighted')\n",
        "\n",
        "# In các chỉ số\n",
        "print(f'Accuracy: {accuracySVM}')\n",
        "print(f'Precision: {precisionSVM}')\n",
        "print(f'Recall: {recallSVM}')\n",
        "print(f'F1 Score: {f1SVM}')"
      ],
      "metadata": {
        "id": "jYoyp5Lo59co",
        "colab": {
          "base_uri": "https://localhost:8080/"
        },
        "outputId": "80e8cd0a-467f-474d-9ec6-1e05cf08c3c6"
      },
      "execution_count": 12,
      "outputs": [
        {
          "output_type": "stream",
          "name": "stdout",
          "text": [
            "Accuracy: 0.6216432865731463\n",
            "Precision: 0.6191665046324859\n",
            "Recall: 0.6216432865731463\n",
            "F1 Score: 0.6033631255234206\n"
          ]
        }
      ]
    },
    {
      "cell_type": "code",
      "source": [
        "from sklearn.tree import DecisionTreeClassifier\n",
        "\n",
        "# Khởi tạo mô hình Decision Tree với các tham số cụ thể\n",
        "dt_model = DecisionTreeClassifier(\n",
        "    min_samples_leaf=2,      # Ít nhất hai mẫu trong các lá\n",
        "    min_samples_split=5,     # Không chia nhỏ các cây nhỏ hơn năm\n",
        "    max_depth=100,           # Độ sâu tối đa là 100\n",
        "    max_leaf_nodes=None,     # Không giới hạn số lượng lá\n",
        "    criterion='gini',        # Sử dụng tiêu chí Gini (có thể thay bằng 'entropy' nếu muốn)\n",
        "    random_state=42\n",
        ")\n",
        "\n",
        "# Huấn luyện mô hình\n",
        "dt_model.fit(X_train, y_train)\n",
        "\n",
        "# Dự đoán trên tập kiểm tra\n",
        "y_pred = dt_model.predict(X_test)\n",
        "\n",
        "# Tính các chỉ số đo lường hiệu suất\n",
        "accuracyDT = accuracy_score(y_test, y_pred)\n",
        "precisionDT = precision_score(y_test, y_pred, average='weighted')\n",
        "recallDT = recall_score(y_test, y_pred, average='weighted')\n",
        "f1DT = f1_score(y_test, y_pred, average='weighted')\n",
        "\n",
        "# In các chỉ số\n",
        "print(f'Accuracy: {accuracyDT}')\n",
        "print(f'Precision: {precisionDT}')\n",
        "print(f'Recall: {recallDT}')\n",
        "print(f'F1 Score: {f1DT}')"
      ],
      "metadata": {
        "id": "DdHw95KU5_2H",
        "colab": {
          "base_uri": "https://localhost:8080/"
        },
        "outputId": "042eefed-2b5b-4f1e-c970-8b23acf3f0d0"
      },
      "execution_count": 13,
      "outputs": [
        {
          "output_type": "stream",
          "name": "stdout",
          "text": [
            "Accuracy: 0.6879759519038077\n",
            "Precision: 0.6920832474833587\n",
            "Recall: 0.6879759519038077\n",
            "F1 Score: 0.6882609619437386\n"
          ]
        }
      ]
    },
    {
      "cell_type": "code",
      "source": [
        "from sklearn.neighbors import KNeighborsClassifier\n",
        "\n",
        "# Khởi tạo mô hình k-Nearest Neighbours với các tham số cụ thể\n",
        "knn_model = KNeighborsClassifier(\n",
        "    n_neighbors=5,            # Sử dụng 5 hàng xóm\n",
        "    metric='euclidean',       # Sử dụng khoảng cách Euclidean\n",
        "    weights='uniform'         # Sử dụng trọng số đồng nhất\n",
        ")\n",
        "\n",
        "# Huấn luyện mô hình\n",
        "knn_model.fit(X_train, y_train)\n",
        "\n",
        "# Dự đoán trên tập kiểm tra\n",
        "y_pred = knn_model.predict(X_test)\n",
        "\n",
        "# Tính các chỉ số đo lường hiệu suất\n",
        "accuracyKN = accuracy_score(y_test, y_pred)\n",
        "precisionKN = precision_score(y_test, y_pred, average='weighted')\n",
        "recallKN = recall_score(y_test, y_pred, average='weighted')\n",
        "f1KN = f1_score(y_test, y_pred, average='weighted')\n",
        "\n",
        "# In các chỉ số\n",
        "print(f'Accuracy: {accuracyKN}')\n",
        "print(f'Precision: {precisionKN}')\n",
        "print(f'Recall: {recallKN}')\n",
        "print(f'F1 Score: {f1KN}')"
      ],
      "metadata": {
        "id": "HWMni2fm6B9d",
        "colab": {
          "base_uri": "https://localhost:8080/"
        },
        "outputId": "01a58af7-9dc4-4026-a408-24b202359fee"
      },
      "execution_count": 14,
      "outputs": [
        {
          "output_type": "stream",
          "name": "stdout",
          "text": [
            "Accuracy: 0.515130260521042\n",
            "Precision: 0.5145679456230515\n",
            "Recall: 0.515130260521042\n",
            "F1 Score: 0.49572951703601553\n"
          ]
        }
      ]
    },
    {
      "cell_type": "code",
      "source": [
        "LA_Mul07 = {\n",
        "    'Model': ['La_Mul07'],\n",
        "    'Accuracy': 0.82,\n",
        "    'Precision': 0.84,\n",
        "    'Recall': 0.83,\n",
        "    'F1 Score': 0.82\n",
        "}"
      ],
      "metadata": {
        "id": "5jrpvuSsYRLh"
      },
      "execution_count": 18,
      "outputs": []
    },
    {
      "cell_type": "code",
      "source": [
        "import matplotlib.pyplot as plt\n",
        "\n",
        "# Chỉ số của các thuật toán\n",
        "accuracies = [accuracyAB, accuracyNN, accuracyRF, accuracySVM, accuracyDT, accuracyKN, LA_Mul07['Accuracy']]\n",
        "precisions = [precisionAB, precisionNN, precisionRF, precisionSVM, precisionDT, precisionKN, LA_Mul07['Precision']]\n",
        "f1_scores = [f1AB, f1NN, f1RF, f1SVM, f1DT, f1KN, LA_Mul07['F1 Score']]\n",
        "recalls = [recallAB, recallNN, recallRF, recallSVM, recallDT, recallKN, LA_Mul07['Recall']]\n",
        "\n",
        "# Tên của các thuật toán\n",
        "labels = ['AB', 'NN', 'RF', 'SVM', 'DT', 'KNN', 'La_Mul07']\n",
        "colors = ['#4F86F7', '#D3D3D3', '#FFA500', '#FFC0CB']\n",
        "\n",
        "# Vẽ biểu đồ cột\n",
        "x = range(len(labels))\n",
        "width = 0.3  # Độ rộng của các cột\n",
        "\n",
        "plt.figure(figsize=(10, 7))\n",
        "\n",
        "bars1 = plt.bar(x, accuracies, width=width, label='Accuracy', color=colors[0])\n",
        "bars2 = plt.bar([i + 0.2 for i in x], precisions, width=width, label='Precision', color=colors[1])\n",
        "bars3 = plt.bar([i + 0.4 for i in x], f1_scores, width=0.2, label='F1-score', color=colors[2])\n",
        "bars4 = plt.bar([i + 0.6 for i in x], recalls, width=0.2, label='Recall', color=colors[3])\n",
        "\n",
        "# Thêm số ở đầu mỗi cột với 3 chữ số thập phân không làm tròn\n",
        "for bars in [bars1, bars2, bars3, bars4]:\n",
        "    for bar in bars:\n",
        "        yval = bar.get_height()\n",
        "        plt.text(bar.get_x() + bar.get_width()/2, yval, f'{yval:.3f}', ha='center', va='bottom', fontsize=5)\n",
        "\n",
        "plt.xlabel('Algorithms')\n",
        "plt.ylabel('Scores')\n",
        "plt.title('Comparison of Different Evaluation Metrics')\n",
        "plt.xticks([i + 0.45 for i in x], labels)\n",
        "\n",
        "# Đặt legend ở ngoài plot\n",
        "plt.legend(loc='center left', bbox_to_anchor=(1, 0.5))\n",
        "plt.tight_layout()  # Tự động điều chỉnh các yếu tố để phù hợp với vùng vẽ\n",
        "plt.show()"
      ],
      "metadata": {
        "id": "ZhoxNZ7Q3eUP",
        "colab": {
          "base_uri": "https://localhost:8080/",
          "height": 707
        },
        "outputId": "a87ebcd4-81a0-4c84-82c5-66f3b637b697"
      },
      "execution_count": 21,
      "outputs": [
        {
          "output_type": "display_data",
          "data": {
            "text/plain": [
              "<Figure size 1000x700 with 1 Axes>"
            ],
            "image/png": "[encoded data removed]"
          },
          "metadata": {}
        }
      ]
    }
  ],
  "metadata": {
    "colab": {
      "provenance": [],
      "gpuType": "T4"
    },
    "kernelspec": {
      "display_name": "Python 3",
      "name": "python3"
    },
    "language_info": {
      "name": "python"
    },
    "accelerator": "GPU"
  },
  "nbformat": 4,
  "nbformat_minor": 0
}